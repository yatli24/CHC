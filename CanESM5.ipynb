{
 "nbformat": 4,
 "nbformat_minor": 0,
 "metadata": {
  "colab": {
   "provenance": []
  },
  "kernelspec": {
   "name": "python3",
   "display_name": "Python 3 (ipykernel)",
   "language": "python"
  },
  "language_info": {
   "name": "python"
  }
 },
 "cells": [
  {
   "metadata": {
    "ExecuteTime": {
     "end_time": "2025-01-25T19:55:28.090860Z",
     "start_time": "2025-01-25T19:55:28.088155Z"
    }
   },
   "cell_type": "code",
   "source": [
    "# xarray to read NETCDF\n",
    "import numpy as np\n",
    "import pandas as pd\n",
    "import xarray as xr\n",
    "import matplotlib.pyplot as plt\n",
    "import seaborn as sns"
   ],
   "outputs": [],
   "execution_count": 37
  },
  {
   "metadata": {
    "ExecuteTime": {
     "end_time": "2025-01-25T19:55:34.382491Z",
     "start_time": "2025-01-25T19:55:30.516301Z"
    }
   },
   "cell_type": "code",
   "source": [
    "CanESM5 = xr.open_mfdataset('data/NMME/CanESM5/*.nc')\n",
    "chirps = xr.open_dataset('data/CHIRPS/chirps-v2.0.monthly.nc')"
   ],
   "outputs": [],
   "execution_count": 38
  },
  {
   "metadata": {
    "ExecuteTime": {
     "end_time": "2025-01-25T20:32:56.556988Z",
     "start_time": "2025-01-25T19:55:34.388720Z"
    }
   },
   "cell_type": "code",
   "source": [
    "CanESM5_south_sudan = (CanESM5.sel(Y=slice(3.5, 12.5), X=slice(205, 215))\n",
    "                       .rename({'Y': 'latitude', 'X': 'longitude', 'prec': 'predicted precip', 'S': 'date of prediction', 'L': 'lead time'})\n",
    "                       .groupby(['latitude', 'longitude', 'date of prediction', 'lead time'])\n",
    "                       .mean('M'))\n",
    "CanESM5_south_sudan['longitude'] = CanESM5_south_sudan['longitude'] - 180\n",
    "CanESM5_south_sudan_df = CanESM5_south_sudan.to_dataframe().reset_index()\n",
    "CanESM5_south_sudan_df['time'] = CanESM5_south_sudan_df.apply(lambda x: x['date of prediction'] + pd.DateOffset(months=int(x['lead time'])), axis=1)\n",
    "CanESM5_south_sudan_df"
   ],
   "outputs": [
    {
     "data": {
      "text/plain": [
       "        latitude  longitude date of prediction  lead time  predicted precip  \\\n",
       "0            4.0       25.0         1991-01-01        0.5          4.021633   \n",
       "1            4.0       25.0         1991-01-01        1.5          5.859212   \n",
       "2            4.0       25.0         1991-01-01        2.5          7.521276   \n",
       "3            4.0       25.0         1991-01-01        3.5          7.710765   \n",
       "4            4.0       25.0         1991-01-01        4.5          5.344356   \n",
       "...          ...        ...                ...        ...               ...   \n",
       "432427      12.0       35.0         2025-01-01        7.5         10.737001   \n",
       "432428      12.0       35.0         2025-01-01        8.5          9.238321   \n",
       "432429      12.0       35.0         2025-01-01        9.5          8.769363   \n",
       "432430      12.0       35.0         2025-01-01       10.5          7.006983   \n",
       "432431      12.0       35.0         2025-01-01       11.5          4.401177   \n",
       "\n",
       "             time  \n",
       "0      1991-01-01  \n",
       "1      1991-02-01  \n",
       "2      1991-03-01  \n",
       "3      1991-04-01  \n",
       "4      1991-05-01  \n",
       "...           ...  \n",
       "432427 2025-08-01  \n",
       "432428 2025-09-01  \n",
       "432429 2025-10-01  \n",
       "432430 2025-11-01  \n",
       "432431 2025-12-01  \n",
       "\n",
       "[432432 rows x 6 columns]"
      ],
      "text/html": [
       "<div>\n",
       "<style scoped>\n",
       "    .dataframe tbody tr th:only-of-type {\n",
       "        vertical-align: middle;\n",
       "    }\n",
       "\n",
       "    .dataframe tbody tr th {\n",
       "        vertical-align: top;\n",
       "    }\n",
       "\n",
       "    .dataframe thead th {\n",
       "        text-align: right;\n",
       "    }\n",
       "</style>\n",
       "<table border=\"1\" class=\"dataframe\">\n",
       "  <thead>\n",
       "    <tr style=\"text-align: right;\">\n",
       "      <th></th>\n",
       "      <th>latitude</th>\n",
       "      <th>longitude</th>\n",
       "      <th>date of prediction</th>\n",
       "      <th>lead time</th>\n",
       "      <th>predicted precip</th>\n",
       "      <th>time</th>\n",
       "    </tr>\n",
       "  </thead>\n",
       "  <tbody>\n",
       "    <tr>\n",
       "      <th>0</th>\n",
       "      <td>4.0</td>\n",
       "      <td>25.0</td>\n",
       "      <td>1991-01-01</td>\n",
       "      <td>0.5</td>\n",
       "      <td>4.021633</td>\n",
       "      <td>1991-01-01</td>\n",
       "    </tr>\n",
       "    <tr>\n",
       "      <th>1</th>\n",
       "      <td>4.0</td>\n",
       "      <td>25.0</td>\n",
       "      <td>1991-01-01</td>\n",
       "      <td>1.5</td>\n",
       "      <td>5.859212</td>\n",
       "      <td>1991-02-01</td>\n",
       "    </tr>\n",
       "    <tr>\n",
       "      <th>2</th>\n",
       "      <td>4.0</td>\n",
       "      <td>25.0</td>\n",
       "      <td>1991-01-01</td>\n",
       "      <td>2.5</td>\n",
       "      <td>7.521276</td>\n",
       "      <td>1991-03-01</td>\n",
       "    </tr>\n",
       "    <tr>\n",
       "      <th>3</th>\n",
       "      <td>4.0</td>\n",
       "      <td>25.0</td>\n",
       "      <td>1991-01-01</td>\n",
       "      <td>3.5</td>\n",
       "      <td>7.710765</td>\n",
       "      <td>1991-04-01</td>\n",
       "    </tr>\n",
       "    <tr>\n",
       "      <th>4</th>\n",
       "      <td>4.0</td>\n",
       "      <td>25.0</td>\n",
       "      <td>1991-01-01</td>\n",
       "      <td>4.5</td>\n",
       "      <td>5.344356</td>\n",
       "      <td>1991-05-01</td>\n",
       "    </tr>\n",
       "    <tr>\n",
       "      <th>...</th>\n",
       "      <td>...</td>\n",
       "      <td>...</td>\n",
       "      <td>...</td>\n",
       "      <td>...</td>\n",
       "      <td>...</td>\n",
       "      <td>...</td>\n",
       "    </tr>\n",
       "    <tr>\n",
       "      <th>432427</th>\n",
       "      <td>12.0</td>\n",
       "      <td>35.0</td>\n",
       "      <td>2025-01-01</td>\n",
       "      <td>7.5</td>\n",
       "      <td>10.737001</td>\n",
       "      <td>2025-08-01</td>\n",
       "    </tr>\n",
       "    <tr>\n",
       "      <th>432428</th>\n",
       "      <td>12.0</td>\n",
       "      <td>35.0</td>\n",
       "      <td>2025-01-01</td>\n",
       "      <td>8.5</td>\n",
       "      <td>9.238321</td>\n",
       "      <td>2025-09-01</td>\n",
       "    </tr>\n",
       "    <tr>\n",
       "      <th>432429</th>\n",
       "      <td>12.0</td>\n",
       "      <td>35.0</td>\n",
       "      <td>2025-01-01</td>\n",
       "      <td>9.5</td>\n",
       "      <td>8.769363</td>\n",
       "      <td>2025-10-01</td>\n",
       "    </tr>\n",
       "    <tr>\n",
       "      <th>432430</th>\n",
       "      <td>12.0</td>\n",
       "      <td>35.0</td>\n",
       "      <td>2025-01-01</td>\n",
       "      <td>10.5</td>\n",
       "      <td>7.006983</td>\n",
       "      <td>2025-11-01</td>\n",
       "    </tr>\n",
       "    <tr>\n",
       "      <th>432431</th>\n",
       "      <td>12.0</td>\n",
       "      <td>35.0</td>\n",
       "      <td>2025-01-01</td>\n",
       "      <td>11.5</td>\n",
       "      <td>4.401177</td>\n",
       "      <td>2025-12-01</td>\n",
       "    </tr>\n",
       "  </tbody>\n",
       "</table>\n",
       "<p>432432 rows × 6 columns</p>\n",
       "</div>"
      ]
     },
     "execution_count": 39,
     "metadata": {},
     "output_type": "execute_result"
    }
   ],
   "execution_count": 39
  },
  {
   "metadata": {
    "ExecuteTime": {
     "end_time": "2025-01-25T20:36:21.728832Z",
     "start_time": "2025-01-25T20:36:20.854344Z"
    }
   },
   "cell_type": "code",
   "source": [
    "chirps_south_sudan = (chirps.sel(latitude=slice(3.5, 12.5), \n",
    "                                longitude=slice(24, 36))\n",
    "                      .interp_like(CanESM5_south_sudan, method='nearest'))\n",
    "chirps_south_sudan_df = chirps_south_sudan.to_dataframe().reset_index()\n",
    "chirps_south_sudan_df"
   ],
   "outputs": [
    {
     "data": {
      "text/plain": [
       "            time  latitude  longitude  precip\n",
       "0     1981-01-01       4.0      205.0     NaN\n",
       "1     1981-01-01       4.0      206.0     NaN\n",
       "2     1981-01-01       4.0      207.0     NaN\n",
       "3     1981-01-01       4.0      208.0     NaN\n",
       "4     1981-01-01       4.0      209.0     NaN\n",
       "...          ...       ...        ...     ...\n",
       "52267 2024-12-01      12.0      211.0     NaN\n",
       "52268 2024-12-01      12.0      212.0     NaN\n",
       "52269 2024-12-01      12.0      213.0     NaN\n",
       "52270 2024-12-01      12.0      214.0     NaN\n",
       "52271 2024-12-01      12.0      215.0     NaN\n",
       "\n",
       "[52272 rows x 4 columns]"
      ],
      "text/html": [
       "<div>\n",
       "<style scoped>\n",
       "    .dataframe tbody tr th:only-of-type {\n",
       "        vertical-align: middle;\n",
       "    }\n",
       "\n",
       "    .dataframe tbody tr th {\n",
       "        vertical-align: top;\n",
       "    }\n",
       "\n",
       "    .dataframe thead th {\n",
       "        text-align: right;\n",
       "    }\n",
       "</style>\n",
       "<table border=\"1\" class=\"dataframe\">\n",
       "  <thead>\n",
       "    <tr style=\"text-align: right;\">\n",
       "      <th></th>\n",
       "      <th>time</th>\n",
       "      <th>latitude</th>\n",
       "      <th>longitude</th>\n",
       "      <th>precip</th>\n",
       "    </tr>\n",
       "  </thead>\n",
       "  <tbody>\n",
       "    <tr>\n",
       "      <th>0</th>\n",
       "      <td>1981-01-01</td>\n",
       "      <td>4.0</td>\n",
       "      <td>205.0</td>\n",
       "      <td>NaN</td>\n",
       "    </tr>\n",
       "    <tr>\n",
       "      <th>1</th>\n",
       "      <td>1981-01-01</td>\n",
       "      <td>4.0</td>\n",
       "      <td>206.0</td>\n",
       "      <td>NaN</td>\n",
       "    </tr>\n",
       "    <tr>\n",
       "      <th>2</th>\n",
       "      <td>1981-01-01</td>\n",
       "      <td>4.0</td>\n",
       "      <td>207.0</td>\n",
       "      <td>NaN</td>\n",
       "    </tr>\n",
       "    <tr>\n",
       "      <th>3</th>\n",
       "      <td>1981-01-01</td>\n",
       "      <td>4.0</td>\n",
       "      <td>208.0</td>\n",
       "      <td>NaN</td>\n",
       "    </tr>\n",
       "    <tr>\n",
       "      <th>4</th>\n",
       "      <td>1981-01-01</td>\n",
       "      <td>4.0</td>\n",
       "      <td>209.0</td>\n",
       "      <td>NaN</td>\n",
       "    </tr>\n",
       "    <tr>\n",
       "      <th>...</th>\n",
       "      <td>...</td>\n",
       "      <td>...</td>\n",
       "      <td>...</td>\n",
       "      <td>...</td>\n",
       "    </tr>\n",
       "    <tr>\n",
       "      <th>52267</th>\n",
       "      <td>2024-12-01</td>\n",
       "      <td>12.0</td>\n",
       "      <td>211.0</td>\n",
       "      <td>NaN</td>\n",
       "    </tr>\n",
       "    <tr>\n",
       "      <th>52268</th>\n",
       "      <td>2024-12-01</td>\n",
       "      <td>12.0</td>\n",
       "      <td>212.0</td>\n",
       "      <td>NaN</td>\n",
       "    </tr>\n",
       "    <tr>\n",
       "      <th>52269</th>\n",
       "      <td>2024-12-01</td>\n",
       "      <td>12.0</td>\n",
       "      <td>213.0</td>\n",
       "      <td>NaN</td>\n",
       "    </tr>\n",
       "    <tr>\n",
       "      <th>52270</th>\n",
       "      <td>2024-12-01</td>\n",
       "      <td>12.0</td>\n",
       "      <td>214.0</td>\n",
       "      <td>NaN</td>\n",
       "    </tr>\n",
       "    <tr>\n",
       "      <th>52271</th>\n",
       "      <td>2024-12-01</td>\n",
       "      <td>12.0</td>\n",
       "      <td>215.0</td>\n",
       "      <td>NaN</td>\n",
       "    </tr>\n",
       "  </tbody>\n",
       "</table>\n",
       "<p>52272 rows × 4 columns</p>\n",
       "</div>"
      ]
     },
     "execution_count": 44,
     "metadata": {},
     "output_type": "execute_result"
    }
   ],
   "execution_count": 44
  },
  {
   "metadata": {
    "ExecuteTime": {
     "end_time": "2025-01-25T20:32:59.312213Z",
     "start_time": "2025-01-25T20:32:57.587154Z"
    }
   },
   "cell_type": "code",
   "source": [
    "CanESM5_south_sudan_df_merged = CanESM5_south_sudan_df.merge(chirps_south_sudan_df, on = ['latitude', 'longitude', 'time'], how = 'left')\n",
    "CanESM5_south_sudan_df_merged.to_csv('south_sudan_CanESM5_merged.csv')\n",
    "CanESM5_south_sudan_df_clean = CanESM5_south_sudan_df_merged.drop(['date of prediction', 'latitude', 'longitude'], axis = 1)\n",
    "CanESM5_south_sudan_df_clean['month'] = CanESM5_south_sudan_df_clean['time'].dt.month\n",
    "Can_ESM5_south_sudan_corr = CanESM5_south_sudan_df_clean.drop('time', axis = 1).groupby(['month', 'lead time']).corr(method='pearson').drop('precip', axis = 1).droplevel(level=2).reset_index()\n",
    "Can_ESM5_south_sudan_corr_clean = Can_ESM5_south_sudan_corr.drop(Can_ESM5_south_sudan_corr.index[::2])\n",
    "Can_ESM5_south_sudan_corr_clean['predicted precip'] = np.power(Can_ESM5_south_sudan_corr_clean['predicted precip'], 2)\n",
    "Can_ESM5_south_sudan_corr_clean"
   ],
   "outputs": [
    {
     "data": {
      "text/plain": [
       "     month  lead time  predicted precip\n",
       "1        1        0.5               NaN\n",
       "3        1        1.5               NaN\n",
       "5        1        2.5               NaN\n",
       "7        1        3.5               NaN\n",
       "9        1        4.5               NaN\n",
       "..     ...        ...               ...\n",
       "279     12        7.5               NaN\n",
       "281     12        8.5               NaN\n",
       "283     12        9.5               NaN\n",
       "285     12       10.5               NaN\n",
       "287     12       11.5               NaN\n",
       "\n",
       "[144 rows x 3 columns]"
      ],
      "text/html": [
       "<div>\n",
       "<style scoped>\n",
       "    .dataframe tbody tr th:only-of-type {\n",
       "        vertical-align: middle;\n",
       "    }\n",
       "\n",
       "    .dataframe tbody tr th {\n",
       "        vertical-align: top;\n",
       "    }\n",
       "\n",
       "    .dataframe thead th {\n",
       "        text-align: right;\n",
       "    }\n",
       "</style>\n",
       "<table border=\"1\" class=\"dataframe\">\n",
       "  <thead>\n",
       "    <tr style=\"text-align: right;\">\n",
       "      <th></th>\n",
       "      <th>month</th>\n",
       "      <th>lead time</th>\n",
       "      <th>predicted precip</th>\n",
       "    </tr>\n",
       "  </thead>\n",
       "  <tbody>\n",
       "    <tr>\n",
       "      <th>1</th>\n",
       "      <td>1</td>\n",
       "      <td>0.5</td>\n",
       "      <td>NaN</td>\n",
       "    </tr>\n",
       "    <tr>\n",
       "      <th>3</th>\n",
       "      <td>1</td>\n",
       "      <td>1.5</td>\n",
       "      <td>NaN</td>\n",
       "    </tr>\n",
       "    <tr>\n",
       "      <th>5</th>\n",
       "      <td>1</td>\n",
       "      <td>2.5</td>\n",
       "      <td>NaN</td>\n",
       "    </tr>\n",
       "    <tr>\n",
       "      <th>7</th>\n",
       "      <td>1</td>\n",
       "      <td>3.5</td>\n",
       "      <td>NaN</td>\n",
       "    </tr>\n",
       "    <tr>\n",
       "      <th>9</th>\n",
       "      <td>1</td>\n",
       "      <td>4.5</td>\n",
       "      <td>NaN</td>\n",
       "    </tr>\n",
       "    <tr>\n",
       "      <th>...</th>\n",
       "      <td>...</td>\n",
       "      <td>...</td>\n",
       "      <td>...</td>\n",
       "    </tr>\n",
       "    <tr>\n",
       "      <th>279</th>\n",
       "      <td>12</td>\n",
       "      <td>7.5</td>\n",
       "      <td>NaN</td>\n",
       "    </tr>\n",
       "    <tr>\n",
       "      <th>281</th>\n",
       "      <td>12</td>\n",
       "      <td>8.5</td>\n",
       "      <td>NaN</td>\n",
       "    </tr>\n",
       "    <tr>\n",
       "      <th>283</th>\n",
       "      <td>12</td>\n",
       "      <td>9.5</td>\n",
       "      <td>NaN</td>\n",
       "    </tr>\n",
       "    <tr>\n",
       "      <th>285</th>\n",
       "      <td>12</td>\n",
       "      <td>10.5</td>\n",
       "      <td>NaN</td>\n",
       "    </tr>\n",
       "    <tr>\n",
       "      <th>287</th>\n",
       "      <td>12</td>\n",
       "      <td>11.5</td>\n",
       "      <td>NaN</td>\n",
       "    </tr>\n",
       "  </tbody>\n",
       "</table>\n",
       "<p>144 rows × 3 columns</p>\n",
       "</div>"
      ]
     },
     "execution_count": 41,
     "metadata": {},
     "output_type": "execute_result"
    }
   ],
   "execution_count": 41
  },
  {
   "metadata": {
    "ExecuteTime": {
     "end_time": "2025-01-25T20:32:59.417327Z",
     "start_time": "2025-01-25T20:32:59.316293Z"
    }
   },
   "cell_type": "code",
   "source": [
    "pivot_df = Can_ESM5_south_sudan_corr_clean.pivot_table(index = 'month', columns = 'lead time', values = 'predicted precip')\n",
    "colormap = sns.color_palette('rocket', 10)\n",
    "ax = sns.heatmap(pivot_df, vmin=0, vmax=1, cmap = colormap)\n",
    "ax.invert_yaxis()\n",
    "plt.title(\"Precipitation by Lead Time & Month (South Sudan)\")\n",
    "plt.ylabel(\"Month\")\n",
    "plt.xlabel(\"Lead Time\")\n",
    "plt.show()"
   ],
   "outputs": [
    {
     "name": "stderr",
     "output_type": "stream",
     "text": [
      "C:\\Users\\Johnson Leung\\PycharmProjects\\PSTAT Capstone\\.venv\\Lib\\site-packages\\seaborn\\matrix.py:309: UserWarning: Attempting to set identical low and high xlims makes transformation singular; automatically expanding.\n",
      "  ax.set(xlim=(0, self.data.shape[1]), ylim=(0, self.data.shape[0]))\n",
      "C:\\Users\\Johnson Leung\\PycharmProjects\\PSTAT Capstone\\.venv\\Lib\\site-packages\\seaborn\\matrix.py:309: UserWarning: Attempting to set identical low and high ylims makes transformation singular; automatically expanding.\n",
      "  ax.set(xlim=(0, self.data.shape[1]), ylim=(0, self.data.shape[0]))\n"
     ]
    },
    {
     "data": {
      "text/plain": [
       "<Figure size 640x480 with 2 Axes>"
      ],
      "image/png": "[encoded data removed]"
     },
     "metadata": {},
     "output_type": "display_data"
    }
   ],
   "execution_count": 42
  },
  {
   "metadata": {
    "ExecuteTime": {
     "end_time": "2025-01-25T20:35:47.669253Z",
     "start_time": "2025-01-25T20:32:59.426511Z"
    }
   },
   "cell_type": "code",
   "source": [
    "CanESM5_eastern_east_africa = (CanESM5.sel(Y=slice(-3.5, 8.5), X=slice(218, 230))\n",
    "                       .rename({'Y': 'latitude', 'X': 'longitude', 'prec': 'predicted precip', 'S': 'date of prediction', 'L': 'lead time'})\n",
    "                       .groupby(['latitude', 'longitude', 'date of prediction', 'lead time'])\n",
    "                       .mean('M'))\n",
    "CanESM5_eastern_east_africa['longitude'] = CanESM5_eastern_east_africa['longitude'] - 180\n",
    "CanESM5_eastern_east_africa_df = CanESM5_eastern_east_africa.to_dataframe().reset_index()\n",
    "CanESM5_eastern_east_africa_df['time'] = CanESM5_eastern_east_africa_df.apply(lambda x: x['date of prediction'] + pd.DateOffset(months=int(x['lead time'])), axis=1)\n",
    "\n",
    "chirps_eastern_east_africa = (chirps.sel(latitude=slice(-3.5, 8.5), \n",
    "                                longitude=slice(37, 51))\n",
    "                      .interp_like(CanESM5_eastern_east_africa, method='nearest'))\n",
    "chirps_eastern_east_africa_df = chirps_eastern_east_africa.to_dataframe().reset_index()\n",
    "\n",
    "CanESM5_eastern_east_africa_df_merged = CanESM5_eastern_east_africa_df.merge(chirps_eastern_east_africa_df, on = ['latitude', 'longitude', 'time'], how = 'left')\n",
    "CanESM5_eastern_east_africa_df_merged.to_csv('eastern_east_africa_CanESM5_merged.csv')\n",
    "CanESM5_eastern_east_africa_df_clean = CanESM5_eastern_east_africa_df_merged.drop(['date of prediction', 'latitude', 'longitude'], axis = 1)\n",
    "CanESM5_eastern_east_africa_df_clean['month'] = CanESM5_eastern_east_africa_df_clean['time'].dt.month\n",
    "Can_ESM5_eastern_east_africa_corr = CanESM5_eastern_east_africa_df_clean.drop('time', axis = 1).groupby(['month', 'lead time']).corr(method='pearson').drop('precip', axis = 1).droplevel(level=2).reset_index()\n",
    "Can_ESM5_eastern_east_africa_corr_clean = Can_ESM5_eastern_east_africa_corr.drop(Can_ESM5_eastern_east_africa_corr.index[::2])\n",
    "Can_ESM5_eastern_east_africa_corr_clean['predicted precip'] = np.power(Can_ESM5_eastern_east_africa_corr_clean['predicted precip'], 2)\n",
    "Can_ESM5_eastern_east_africa_corr_clean"
   ],
   "outputs": [
    {
     "ename": "KeyboardInterrupt",
     "evalue": "",
     "output_type": "error",
     "traceback": [
      "\u001B[1;31m---------------------------------------------------------------------------\u001B[0m",
      "\u001B[1;31mKeyboardInterrupt\u001B[0m                         Traceback (most recent call last)",
      "    \u001B[1;31m[... skipping hidden 1 frame]\u001B[0m\n",
      "Cell \u001B[1;32mIn[43], line 4\u001B[0m\n\u001B[0;32m      1\u001B[0m CanESM5_eastern_east_africa \u001B[38;5;241m=\u001B[39m (\u001B[43mCanESM5\u001B[49m\u001B[38;5;241;43m.\u001B[39;49m\u001B[43msel\u001B[49m\u001B[43m(\u001B[49m\u001B[43mY\u001B[49m\u001B[38;5;241;43m=\u001B[39;49m\u001B[38;5;28;43mslice\u001B[39;49m\u001B[43m(\u001B[49m\u001B[38;5;241;43m-\u001B[39;49m\u001B[38;5;241;43m3.5\u001B[39;49m\u001B[43m,\u001B[49m\u001B[43m \u001B[49m\u001B[38;5;241;43m8.5\u001B[39;49m\u001B[43m)\u001B[49m\u001B[43m,\u001B[49m\u001B[43m \u001B[49m\u001B[43mX\u001B[49m\u001B[38;5;241;43m=\u001B[39;49m\u001B[38;5;28;43mslice\u001B[39;49m\u001B[43m(\u001B[49m\u001B[38;5;241;43m218\u001B[39;49m\u001B[43m,\u001B[49m\u001B[43m \u001B[49m\u001B[38;5;241;43m230\u001B[39;49m\u001B[43m)\u001B[49m\u001B[43m)\u001B[49m\n\u001B[0;32m      2\u001B[0m \u001B[43m                       \u001B[49m\u001B[38;5;241;43m.\u001B[39;49m\u001B[43mrename\u001B[49m\u001B[43m(\u001B[49m\u001B[43m{\u001B[49m\u001B[38;5;124;43m'\u001B[39;49m\u001B[38;5;124;43mY\u001B[39;49m\u001B[38;5;124;43m'\u001B[39;49m\u001B[43m:\u001B[49m\u001B[43m \u001B[49m\u001B[38;5;124;43m'\u001B[39;49m\u001B[38;5;124;43mlatitude\u001B[39;49m\u001B[38;5;124;43m'\u001B[39;49m\u001B[43m,\u001B[49m\u001B[43m \u001B[49m\u001B[38;5;124;43m'\u001B[39;49m\u001B[38;5;124;43mX\u001B[39;49m\u001B[38;5;124;43m'\u001B[39;49m\u001B[43m:\u001B[49m\u001B[43m \u001B[49m\u001B[38;5;124;43m'\u001B[39;49m\u001B[38;5;124;43mlongitude\u001B[39;49m\u001B[38;5;124;43m'\u001B[39;49m\u001B[43m,\u001B[49m\u001B[43m \u001B[49m\u001B[38;5;124;43m'\u001B[39;49m\u001B[38;5;124;43mprec\u001B[39;49m\u001B[38;5;124;43m'\u001B[39;49m\u001B[43m:\u001B[49m\u001B[43m \u001B[49m\u001B[38;5;124;43m'\u001B[39;49m\u001B[38;5;124;43mpredicted precip\u001B[39;49m\u001B[38;5;124;43m'\u001B[39;49m\u001B[43m,\u001B[49m\u001B[43m \u001B[49m\u001B[38;5;124;43m'\u001B[39;49m\u001B[38;5;124;43mS\u001B[39;49m\u001B[38;5;124;43m'\u001B[39;49m\u001B[43m:\u001B[49m\u001B[43m \u001B[49m\u001B[38;5;124;43m'\u001B[39;49m\u001B[38;5;124;43mdate of prediction\u001B[39;49m\u001B[38;5;124;43m'\u001B[39;49m\u001B[43m,\u001B[49m\u001B[43m \u001B[49m\u001B[38;5;124;43m'\u001B[39;49m\u001B[38;5;124;43mL\u001B[39;49m\u001B[38;5;124;43m'\u001B[39;49m\u001B[43m:\u001B[49m\u001B[43m \u001B[49m\u001B[38;5;124;43m'\u001B[39;49m\u001B[38;5;124;43mlead time\u001B[39;49m\u001B[38;5;124;43m'\u001B[39;49m\u001B[43m}\u001B[49m\u001B[43m)\u001B[49m\n\u001B[0;32m      3\u001B[0m \u001B[43m                       \u001B[49m\u001B[38;5;241;43m.\u001B[39;49m\u001B[43mgroupby\u001B[49m\u001B[43m(\u001B[49m\u001B[43m[\u001B[49m\u001B[38;5;124;43m'\u001B[39;49m\u001B[38;5;124;43mlatitude\u001B[39;49m\u001B[38;5;124;43m'\u001B[39;49m\u001B[43m,\u001B[49m\u001B[43m \u001B[49m\u001B[38;5;124;43m'\u001B[39;49m\u001B[38;5;124;43mlongitude\u001B[39;49m\u001B[38;5;124;43m'\u001B[39;49m\u001B[43m,\u001B[49m\u001B[43m \u001B[49m\u001B[38;5;124;43m'\u001B[39;49m\u001B[38;5;124;43mdate of prediction\u001B[39;49m\u001B[38;5;124;43m'\u001B[39;49m\u001B[43m,\u001B[49m\u001B[43m \u001B[49m\u001B[38;5;124;43m'\u001B[39;49m\u001B[38;5;124;43mlead time\u001B[39;49m\u001B[38;5;124;43m'\u001B[39;49m\u001B[43m]\u001B[49m\u001B[43m)\u001B[49m\n\u001B[1;32m----> 4\u001B[0m \u001B[43m                       \u001B[49m\u001B[38;5;241;43m.\u001B[39;49m\u001B[43mmean\u001B[49m\u001B[43m(\u001B[49m\u001B[38;5;124;43m'\u001B[39;49m\u001B[38;5;124;43mM\u001B[39;49m\u001B[38;5;124;43m'\u001B[39;49m\u001B[43m)\u001B[49m)\n\u001B[0;32m      5\u001B[0m CanESM5_eastern_east_africa_df \u001B[38;5;241m=\u001B[39m CanESM5_eastern_east_africa\u001B[38;5;241m.\u001B[39mto_dataframe()\u001B[38;5;241m.\u001B[39mreset_index()\n",
      "File \u001B[1;32m~\\PycharmProjects\\PSTAT Capstone\\.venv\\Lib\\site-packages\\xarray\\core\\_aggregations.py:4289\u001B[0m, in \u001B[0;36mDatasetGroupByAggregations.mean\u001B[1;34m(self, dim, skipna, keep_attrs, **kwargs)\u001B[0m\n\u001B[0;32m   4288\u001B[0m \u001B[38;5;28;01melse\u001B[39;00m:\n\u001B[1;32m-> 4289\u001B[0m     \u001B[38;5;28;01mreturn\u001B[39;00m \u001B[38;5;28;43mself\u001B[39;49m\u001B[38;5;241;43m.\u001B[39;49m\u001B[43mreduce\u001B[49m\u001B[43m(\u001B[49m\n\u001B[0;32m   4290\u001B[0m \u001B[43m        \u001B[49m\u001B[43mduck_array_ops\u001B[49m\u001B[38;5;241;43m.\u001B[39;49m\u001B[43mmean\u001B[49m\u001B[43m,\u001B[49m\n\u001B[0;32m   4291\u001B[0m \u001B[43m        \u001B[49m\u001B[43mdim\u001B[49m\u001B[38;5;241;43m=\u001B[39;49m\u001B[43mdim\u001B[49m\u001B[43m,\u001B[49m\n\u001B[0;32m   4292\u001B[0m \u001B[43m        \u001B[49m\u001B[43mskipna\u001B[49m\u001B[38;5;241;43m=\u001B[39;49m\u001B[43mskipna\u001B[49m\u001B[43m,\u001B[49m\n\u001B[0;32m   4293\u001B[0m \u001B[43m        \u001B[49m\u001B[43mnumeric_only\u001B[49m\u001B[38;5;241;43m=\u001B[39;49m\u001B[38;5;28;43;01mTrue\u001B[39;49;00m\u001B[43m,\u001B[49m\n\u001B[0;32m   4294\u001B[0m \u001B[43m        \u001B[49m\u001B[43mkeep_attrs\u001B[49m\u001B[38;5;241;43m=\u001B[39;49m\u001B[43mkeep_attrs\u001B[49m\u001B[43m,\u001B[49m\n\u001B[0;32m   4295\u001B[0m \u001B[43m        \u001B[49m\u001B[38;5;241;43m*\u001B[39;49m\u001B[38;5;241;43m*\u001B[39;49m\u001B[43mkwargs\u001B[49m\u001B[43m,\u001B[49m\n\u001B[0;32m   4296\u001B[0m \u001B[43m    \u001B[49m\u001B[43m)\u001B[49m\n",
      "File \u001B[1;32m~\\PycharmProjects\\PSTAT Capstone\\.venv\\Lib\\site-packages\\xarray\\core\\groupby.py:1765\u001B[0m, in \u001B[0;36mDatasetGroupByBase.reduce\u001B[1;34m(self, func, dim, axis, keep_attrs, keepdims, shortcut, **kwargs)\u001B[0m\n\u001B[0;32m   1763\u001B[0m check_reduce_dims(dim, \u001B[38;5;28mself\u001B[39m\u001B[38;5;241m.\u001B[39mdims)\n\u001B[1;32m-> 1765\u001B[0m \u001B[38;5;28;01mreturn\u001B[39;00m \u001B[38;5;28;43mself\u001B[39;49m\u001B[38;5;241;43m.\u001B[39;49m\u001B[43mmap\u001B[49m\u001B[43m(\u001B[49m\u001B[43mreduce_dataset\u001B[49m\u001B[43m)\u001B[49m\n",
      "File \u001B[1;32m~\\PycharmProjects\\PSTAT Capstone\\.venv\\Lib\\site-packages\\xarray\\core\\groupby.py:1668\u001B[0m, in \u001B[0;36mDatasetGroupByBase.map\u001B[1;34m(self, func, args, shortcut, **kwargs)\u001B[0m\n\u001B[0;32m   1667\u001B[0m applied \u001B[38;5;241m=\u001B[39m (func(ds, \u001B[38;5;241m*\u001B[39margs, \u001B[38;5;241m*\u001B[39m\u001B[38;5;241m*\u001B[39mkwargs) \u001B[38;5;28;01mfor\u001B[39;00m ds \u001B[38;5;129;01min\u001B[39;00m \u001B[38;5;28mself\u001B[39m\u001B[38;5;241m.\u001B[39m_iter_grouped())\n\u001B[1;32m-> 1668\u001B[0m \u001B[38;5;28;01mreturn\u001B[39;00m \u001B[38;5;28;43mself\u001B[39;49m\u001B[38;5;241;43m.\u001B[39;49m\u001B[43m_combine\u001B[49m\u001B[43m(\u001B[49m\u001B[43mapplied\u001B[49m\u001B[43m)\u001B[49m\n",
      "File \u001B[1;32m~\\PycharmProjects\\PSTAT Capstone\\.venv\\Lib\\site-packages\\xarray\\core\\groupby.py:1690\u001B[0m, in \u001B[0;36mDatasetGroupByBase._combine\u001B[1;34m(self, applied)\u001B[0m\n\u001B[0;32m   1689\u001B[0m dim, positions \u001B[38;5;241m=\u001B[39m \u001B[38;5;28mself\u001B[39m\u001B[38;5;241m.\u001B[39m_infer_concat_args(applied_example)\n\u001B[1;32m-> 1690\u001B[0m combined \u001B[38;5;241m=\u001B[39m \u001B[43mconcat\u001B[49m\u001B[43m(\u001B[49m\u001B[43mapplied\u001B[49m\u001B[43m,\u001B[49m\u001B[43m \u001B[49m\u001B[43mdim\u001B[49m\u001B[43m)\u001B[49m\n\u001B[0;32m   1691\u001B[0m combined \u001B[38;5;241m=\u001B[39m _maybe_reorder(combined, dim, positions, N\u001B[38;5;241m=\u001B[39m\u001B[38;5;28mself\u001B[39m\u001B[38;5;241m.\u001B[39mgroup1d\u001B[38;5;241m.\u001B[39msize)\n",
      "File \u001B[1;32m~\\PycharmProjects\\PSTAT Capstone\\.venv\\Lib\\site-packages\\xarray\\core\\concat.py:277\u001B[0m, in \u001B[0;36mconcat\u001B[1;34m(objs, dim, data_vars, coords, compat, positions, fill_value, join, combine_attrs, create_index_for_new_dim)\u001B[0m\n\u001B[0;32m    276\u001B[0m \u001B[38;5;28;01melif\u001B[39;00m \u001B[38;5;28misinstance\u001B[39m(first_obj, Dataset):\n\u001B[1;32m--> 277\u001B[0m     \u001B[38;5;28;01mreturn\u001B[39;00m \u001B[43m_dataset_concat\u001B[49m\u001B[43m(\u001B[49m\n\u001B[0;32m    278\u001B[0m \u001B[43m        \u001B[49m\u001B[43mobjs\u001B[49m\u001B[43m,\u001B[49m\n\u001B[0;32m    279\u001B[0m \u001B[43m        \u001B[49m\u001B[43mdim\u001B[49m\u001B[38;5;241;43m=\u001B[39;49m\u001B[43mdim\u001B[49m\u001B[43m,\u001B[49m\n\u001B[0;32m    280\u001B[0m \u001B[43m        \u001B[49m\u001B[43mdata_vars\u001B[49m\u001B[38;5;241;43m=\u001B[39;49m\u001B[43mdata_vars\u001B[49m\u001B[43m,\u001B[49m\n\u001B[0;32m    281\u001B[0m \u001B[43m        \u001B[49m\u001B[43mcoords\u001B[49m\u001B[38;5;241;43m=\u001B[39;49m\u001B[43mcoords\u001B[49m\u001B[43m,\u001B[49m\n\u001B[0;32m    282\u001B[0m \u001B[43m        \u001B[49m\u001B[43mcompat\u001B[49m\u001B[38;5;241;43m=\u001B[39;49m\u001B[43mcompat\u001B[49m\u001B[43m,\u001B[49m\n\u001B[0;32m    283\u001B[0m \u001B[43m        \u001B[49m\u001B[43mpositions\u001B[49m\u001B[38;5;241;43m=\u001B[39;49m\u001B[43mpositions\u001B[49m\u001B[43m,\u001B[49m\n\u001B[0;32m    284\u001B[0m \u001B[43m        \u001B[49m\u001B[43mfill_value\u001B[49m\u001B[38;5;241;43m=\u001B[39;49m\u001B[43mfill_value\u001B[49m\u001B[43m,\u001B[49m\n\u001B[0;32m    285\u001B[0m \u001B[43m        \u001B[49m\u001B[43mjoin\u001B[49m\u001B[38;5;241;43m=\u001B[39;49m\u001B[43mjoin\u001B[49m\u001B[43m,\u001B[49m\n\u001B[0;32m    286\u001B[0m \u001B[43m        \u001B[49m\u001B[43mcombine_attrs\u001B[49m\u001B[38;5;241;43m=\u001B[39;49m\u001B[43mcombine_attrs\u001B[49m\u001B[43m,\u001B[49m\n\u001B[0;32m    287\u001B[0m \u001B[43m        \u001B[49m\u001B[43mcreate_index_for_new_dim\u001B[49m\u001B[38;5;241;43m=\u001B[39;49m\u001B[43mcreate_index_for_new_dim\u001B[49m\u001B[43m,\u001B[49m\n\u001B[0;32m    288\u001B[0m \u001B[43m    \u001B[49m\u001B[43m)\u001B[49m\n\u001B[0;32m    289\u001B[0m \u001B[38;5;28;01melse\u001B[39;00m:\n",
      "File \u001B[1;32m~\\PycharmProjects\\PSTAT Capstone\\.venv\\Lib\\site-packages\\xarray\\core\\concat.py:497\u001B[0m, in \u001B[0;36m_dataset_concat\u001B[1;34m(datasets, dim, data_vars, coords, compat, positions, fill_value, join, combine_attrs, create_index_for_new_dim)\u001B[0m\n\u001B[0;32m    495\u001B[0m \u001B[38;5;28;01mfrom\u001B[39;00m\u001B[38;5;250m \u001B[39m\u001B[38;5;21;01mxarray\u001B[39;00m\u001B[38;5;21;01m.\u001B[39;00m\u001B[38;5;21;01mcore\u001B[39;00m\u001B[38;5;21;01m.\u001B[39;00m\u001B[38;5;21;01mdataset\u001B[39;00m\u001B[38;5;250m \u001B[39m\u001B[38;5;28;01mimport\u001B[39;00m Dataset\n\u001B[1;32m--> 497\u001B[0m datasets \u001B[38;5;241m=\u001B[39m \u001B[38;5;28;43mlist\u001B[39;49m\u001B[43m(\u001B[49m\u001B[43mdatasets\u001B[49m\u001B[43m)\u001B[49m\n\u001B[0;32m    499\u001B[0m \u001B[38;5;28;01mif\u001B[39;00m \u001B[38;5;129;01mnot\u001B[39;00m \u001B[38;5;28mall\u001B[39m(\u001B[38;5;28misinstance\u001B[39m(dataset, Dataset) \u001B[38;5;28;01mfor\u001B[39;00m dataset \u001B[38;5;129;01min\u001B[39;00m datasets):\n",
      "File \u001B[1;32m~\\PycharmProjects\\PSTAT Capstone\\.venv\\Lib\\site-packages\\xarray\\core\\groupby.py:1667\u001B[0m, in \u001B[0;36m<genexpr>\u001B[1;34m(.0)\u001B[0m\n\u001B[0;32m   1666\u001B[0m \u001B[38;5;66;03m# ignore shortcut if set (for now)\u001B[39;00m\n\u001B[1;32m-> 1667\u001B[0m applied \u001B[38;5;241m=\u001B[39m (func(ds, \u001B[38;5;241m*\u001B[39margs, \u001B[38;5;241m*\u001B[39m\u001B[38;5;241m*\u001B[39mkwargs) \u001B[38;5;28;01mfor\u001B[39;00m ds \u001B[38;5;129;01min\u001B[39;00m \u001B[38;5;28mself\u001B[39m\u001B[38;5;241m.\u001B[39m_iter_grouped())\n\u001B[0;32m   1668\u001B[0m \u001B[38;5;28;01mreturn\u001B[39;00m \u001B[38;5;28mself\u001B[39m\u001B[38;5;241m.\u001B[39m_combine(applied)\n",
      "File \u001B[1;32m~\\PycharmProjects\\PSTAT Capstone\\.venv\\Lib\\site-packages\\xarray\\core\\groupby.py:836\u001B[0m, in \u001B[0;36mGroupBy._iter_grouped\u001B[1;34m(self)\u001B[0m\n\u001B[0;32m    835\u001B[0m \u001B[38;5;28;01mif\u001B[39;00m indices:\n\u001B[1;32m--> 836\u001B[0m     \u001B[38;5;28;01myield\u001B[39;00m \u001B[38;5;28;43mself\u001B[39;49m\u001B[38;5;241;43m.\u001B[39;49m\u001B[43m_obj\u001B[49m\u001B[38;5;241;43m.\u001B[39;49m\u001B[43misel\u001B[49m\u001B[43m(\u001B[49m\u001B[43m{\u001B[49m\u001B[38;5;28;43mself\u001B[39;49m\u001B[38;5;241;43m.\u001B[39;49m\u001B[43m_group_dim\u001B[49m\u001B[43m:\u001B[49m\u001B[43m \u001B[49m\u001B[43mindices\u001B[49m\u001B[43m}\u001B[49m\u001B[43m)\u001B[49m\n",
      "File \u001B[1;32m~\\PycharmProjects\\PSTAT Capstone\\.venv\\Lib\\site-packages\\xarray\\core\\dataset.py:3108\u001B[0m, in \u001B[0;36mDataset.isel\u001B[1;34m(self, indexers, drop, missing_dims, **indexers_kwargs)\u001B[0m\n\u001B[0;32m   3107\u001B[0m \u001B[38;5;28;01mif\u001B[39;00m var_indexers:\n\u001B[1;32m-> 3108\u001B[0m     var \u001B[38;5;241m=\u001B[39m \u001B[43mvar\u001B[49m\u001B[38;5;241;43m.\u001B[39;49m\u001B[43misel\u001B[49m\u001B[43m(\u001B[49m\u001B[43mvar_indexers\u001B[49m\u001B[43m)\u001B[49m\n\u001B[0;32m   3109\u001B[0m     \u001B[38;5;28;01mif\u001B[39;00m drop \u001B[38;5;129;01mand\u001B[39;00m var\u001B[38;5;241m.\u001B[39mndim \u001B[38;5;241m==\u001B[39m \u001B[38;5;241m0\u001B[39m \u001B[38;5;129;01mand\u001B[39;00m name \u001B[38;5;129;01min\u001B[39;00m coord_names:\n",
      "File \u001B[1;32m~\\PycharmProjects\\PSTAT Capstone\\.venv\\Lib\\site-packages\\xarray\\core\\variable.py:1081\u001B[0m, in \u001B[0;36mVariable.isel\u001B[1;34m(self, indexers, missing_dims, **indexers_kwargs)\u001B[0m\n\u001B[0;32m   1080\u001B[0m key \u001B[38;5;241m=\u001B[39m \u001B[38;5;28mtuple\u001B[39m(indexers\u001B[38;5;241m.\u001B[39mget(dim, \u001B[38;5;28mslice\u001B[39m(\u001B[38;5;28;01mNone\u001B[39;00m)) \u001B[38;5;28;01mfor\u001B[39;00m dim \u001B[38;5;129;01min\u001B[39;00m \u001B[38;5;28mself\u001B[39m\u001B[38;5;241m.\u001B[39mdims)\n\u001B[1;32m-> 1081\u001B[0m \u001B[38;5;28;01mreturn\u001B[39;00m \u001B[38;5;28;43mself\u001B[39;49m\u001B[43m[\u001B[49m\u001B[43mkey\u001B[49m\u001B[43m]\u001B[49m\n",
      "File \u001B[1;32m~\\PycharmProjects\\PSTAT Capstone\\.venv\\Lib\\site-packages\\xarray\\core\\variable.py:827\u001B[0m, in \u001B[0;36mVariable.__getitem__\u001B[1;34m(self, key)\u001B[0m\n\u001B[0;32m    825\u001B[0m indexable \u001B[38;5;241m=\u001B[39m as_indexable(\u001B[38;5;28mself\u001B[39m\u001B[38;5;241m.\u001B[39m_data)\n\u001B[1;32m--> 827\u001B[0m data \u001B[38;5;241m=\u001B[39m \u001B[43mindexing\u001B[49m\u001B[38;5;241;43m.\u001B[39;49m\u001B[43mapply_indexer\u001B[49m\u001B[43m(\u001B[49m\u001B[43mindexable\u001B[49m\u001B[43m,\u001B[49m\u001B[43m \u001B[49m\u001B[43mindexer\u001B[49m\u001B[43m)\u001B[49m\n\u001B[0;32m    829\u001B[0m \u001B[38;5;28;01mif\u001B[39;00m new_order:\n",
      "File \u001B[1;32m~\\PycharmProjects\\PSTAT Capstone\\.venv\\Lib\\site-packages\\xarray\\core\\indexing.py:1026\u001B[0m, in \u001B[0;36mapply_indexer\u001B[1;34m(indexable, indexer)\u001B[0m\n\u001B[0;32m   1025\u001B[0m \u001B[38;5;28;01melif\u001B[39;00m \u001B[38;5;28misinstance\u001B[39m(indexer, OuterIndexer):\n\u001B[1;32m-> 1026\u001B[0m     \u001B[38;5;28;01mreturn\u001B[39;00m \u001B[43mindexable\u001B[49m\u001B[38;5;241;43m.\u001B[39;49m\u001B[43moindex\u001B[49m\u001B[43m[\u001B[49m\u001B[43mindexer\u001B[49m\u001B[43m]\u001B[49m\n\u001B[0;32m   1027\u001B[0m \u001B[38;5;28;01melse\u001B[39;00m:\n",
      "File \u001B[1;32m~\\PycharmProjects\\PSTAT Capstone\\.venv\\Lib\\site-packages\\xarray\\core\\indexing.py:370\u001B[0m, in \u001B[0;36mIndexCallable.__getitem__\u001B[1;34m(self, key)\u001B[0m\n\u001B[0;32m    369\u001B[0m \u001B[38;5;28;01mdef\u001B[39;00m\u001B[38;5;250m \u001B[39m\u001B[38;5;21m__getitem__\u001B[39m(\u001B[38;5;28mself\u001B[39m, key: Any) \u001B[38;5;241m-\u001B[39m\u001B[38;5;241m>\u001B[39m Any:\n\u001B[1;32m--> 370\u001B[0m     \u001B[38;5;28;01mreturn\u001B[39;00m \u001B[38;5;28;43mself\u001B[39;49m\u001B[38;5;241;43m.\u001B[39;49m\u001B[43mgetter\u001B[49m\u001B[43m(\u001B[49m\u001B[43mkey\u001B[49m\u001B[43m)\u001B[49m\n",
      "File \u001B[1;32m~\\PycharmProjects\\PSTAT Capstone\\.venv\\Lib\\site-packages\\xarray\\core\\indexing.py:1642\u001B[0m, in \u001B[0;36mDaskIndexingAdapter._oindex_get\u001B[1;34m(self, indexer)\u001B[0m\n\u001B[0;32m   1641\u001B[0m \u001B[38;5;28;01mtry\u001B[39;00m:\n\u001B[1;32m-> 1642\u001B[0m     \u001B[38;5;28;01mreturn\u001B[39;00m \u001B[38;5;28;43mself\u001B[39;49m\u001B[38;5;241;43m.\u001B[39;49m\u001B[43marray\u001B[49m\u001B[43m[\u001B[49m\u001B[43mkey\u001B[49m\u001B[43m]\u001B[49m\n\u001B[0;32m   1643\u001B[0m \u001B[38;5;28;01mexcept\u001B[39;00m \u001B[38;5;167;01mNotImplementedError\u001B[39;00m:\n\u001B[0;32m   1644\u001B[0m     \u001B[38;5;66;03m# manual orthogonal indexing\u001B[39;00m\n",
      "File \u001B[1;32m~\\PycharmProjects\\PSTAT Capstone\\.venv\\Lib\\site-packages\\dask\\array\\core.py:2014\u001B[0m, in \u001B[0;36mArray.__getitem__\u001B[1;34m(self, index)\u001B[0m\n\u001B[0;32m   2013\u001B[0m out \u001B[38;5;241m=\u001B[39m \u001B[38;5;124m\"\u001B[39m\u001B[38;5;124mgetitem-\u001B[39m\u001B[38;5;124m\"\u001B[39m \u001B[38;5;241m+\u001B[39m tokenize(\u001B[38;5;28mself\u001B[39m, index2)\n\u001B[1;32m-> 2014\u001B[0m dsk, chunks \u001B[38;5;241m=\u001B[39m \u001B[43mslice_array\u001B[49m\u001B[43m(\u001B[49m\u001B[43mout\u001B[49m\u001B[43m,\u001B[49m\u001B[43m \u001B[49m\u001B[38;5;28;43mself\u001B[39;49m\u001B[38;5;241;43m.\u001B[39;49m\u001B[43mname\u001B[49m\u001B[43m,\u001B[49m\u001B[43m \u001B[49m\u001B[38;5;28;43mself\u001B[39;49m\u001B[38;5;241;43m.\u001B[39;49m\u001B[43mchunks\u001B[49m\u001B[43m,\u001B[49m\u001B[43m \u001B[49m\u001B[43mindex2\u001B[49m\u001B[43m,\u001B[49m\u001B[43m \u001B[49m\u001B[38;5;28;43mself\u001B[39;49m\u001B[38;5;241;43m.\u001B[39;49m\u001B[43mitemsize\u001B[49m\u001B[43m)\u001B[49m\n\u001B[0;32m   2016\u001B[0m graph \u001B[38;5;241m=\u001B[39m HighLevelGraph\u001B[38;5;241m.\u001B[39mfrom_collections(out, dsk, dependencies\u001B[38;5;241m=\u001B[39m[\u001B[38;5;28mself\u001B[39m])\n",
      "File \u001B[1;32m~\\PycharmProjects\\PSTAT Capstone\\.venv\\Lib\\site-packages\\dask\\array\\slicing.py:177\u001B[0m, in \u001B[0;36mslice_array\u001B[1;34m(out_name, in_name, blockdims, index, itemsize)\u001B[0m\n\u001B[0;32m    176\u001B[0m \u001B[38;5;66;03m# Pass down to next function\u001B[39;00m\n\u001B[1;32m--> 177\u001B[0m dsk_out, bd_out \u001B[38;5;241m=\u001B[39m \u001B[43mslice_with_newaxes\u001B[49m\u001B[43m(\u001B[49m\u001B[43mout_name\u001B[49m\u001B[43m,\u001B[49m\u001B[43m \u001B[49m\u001B[43min_name\u001B[49m\u001B[43m,\u001B[49m\u001B[43m \u001B[49m\u001B[43mblockdims\u001B[49m\u001B[43m,\u001B[49m\u001B[43m \u001B[49m\u001B[43mindex\u001B[49m\u001B[43m)\u001B[49m\n\u001B[0;32m    179\u001B[0m bd_out \u001B[38;5;241m=\u001B[39m \u001B[38;5;28mtuple\u001B[39m(\u001B[38;5;28mmap\u001B[39m(\u001B[38;5;28mtuple\u001B[39m, bd_out))\n",
      "File \u001B[1;32m~\\PycharmProjects\\PSTAT Capstone\\.venv\\Lib\\site-packages\\dask\\array\\slicing.py:199\u001B[0m, in \u001B[0;36mslice_with_newaxes\u001B[1;34m(out_name, in_name, blockdims, index)\u001B[0m\n\u001B[0;32m    198\u001B[0m \u001B[38;5;66;03m# Pass down and do work\u001B[39;00m\n\u001B[1;32m--> 199\u001B[0m dsk, blockdims2 \u001B[38;5;241m=\u001B[39m \u001B[43mslice_wrap_lists\u001B[49m\u001B[43m(\u001B[49m\n\u001B[0;32m    200\u001B[0m \u001B[43m    \u001B[49m\u001B[43mout_name\u001B[49m\u001B[43m,\u001B[49m\u001B[43m \u001B[49m\u001B[43min_name\u001B[49m\u001B[43m,\u001B[49m\u001B[43m \u001B[49m\u001B[43mblockdims\u001B[49m\u001B[43m,\u001B[49m\u001B[43m \u001B[49m\u001B[43mindex2\u001B[49m\u001B[43m,\u001B[49m\u001B[43m \u001B[49m\u001B[38;5;129;43;01mnot\u001B[39;49;00m\u001B[43m \u001B[49m\u001B[43mwhere_none\u001B[49m\n\u001B[0;32m    201\u001B[0m \u001B[43m\u001B[49m\u001B[43m)\u001B[49m\n\u001B[0;32m    203\u001B[0m \u001B[38;5;28;01mif\u001B[39;00m where_none:\n",
      "File \u001B[1;32m~\\PycharmProjects\\PSTAT Capstone\\.venv\\Lib\\site-packages\\dask\\array\\slicing.py:267\u001B[0m, in \u001B[0;36mslice_wrap_lists\u001B[1;34m(out_name, in_name, blockdims, index, allow_getitem_optimization)\u001B[0m\n\u001B[0;32m    266\u001B[0m     axis \u001B[38;5;241m=\u001B[39m where_list[\u001B[38;5;241m0\u001B[39m]\n\u001B[1;32m--> 267\u001B[0m     blockdims2, dsk3 \u001B[38;5;241m=\u001B[39m \u001B[43mtake\u001B[49m\u001B[43m(\u001B[49m\n\u001B[0;32m    268\u001B[0m \u001B[43m        \u001B[49m\u001B[43mout_name\u001B[49m\u001B[43m,\u001B[49m\u001B[43m \u001B[49m\u001B[43min_name\u001B[49m\u001B[43m,\u001B[49m\u001B[43m \u001B[49m\u001B[43mblockdims\u001B[49m\u001B[43m,\u001B[49m\u001B[43m \u001B[49m\u001B[43mindex\u001B[49m\u001B[43m[\u001B[49m\u001B[43mwhere_list\u001B[49m\u001B[43m[\u001B[49m\u001B[38;5;241;43m0\u001B[39;49m\u001B[43m]\u001B[49m\u001B[43m]\u001B[49m\u001B[43m,\u001B[49m\u001B[43m \u001B[49m\u001B[43maxis\u001B[49m\u001B[38;5;241;43m=\u001B[39;49m\u001B[43maxis\u001B[49m\n\u001B[0;32m    269\u001B[0m \u001B[43m    \u001B[49m\u001B[43m)\u001B[49m\n\u001B[0;32m    270\u001B[0m \u001B[38;5;66;03m# Mixed case. Both slices/integers and lists. slice/integer then take\u001B[39;00m\n\u001B[0;32m    271\u001B[0m \u001B[38;5;28;01melse\u001B[39;00m:\n\u001B[0;32m    272\u001B[0m     \u001B[38;5;66;03m# Do first pass without lists\u001B[39;00m\n",
      "File \u001B[1;32m~\\PycharmProjects\\PSTAT Capstone\\.venv\\Lib\\site-packages\\dask\\array\\slicing.py:584\u001B[0m, in \u001B[0;36mtake\u001B[1;34m(outname, inname, chunks, index, axis)\u001B[0m\n\u001B[0;32m    582\u001B[0m \u001B[38;5;28;01mfrom\u001B[39;00m\u001B[38;5;250m \u001B[39m\u001B[38;5;21;01mdask\u001B[39;00m\u001B[38;5;21;01m.\u001B[39;00m\u001B[38;5;21;01marray\u001B[39;00m\u001B[38;5;21;01m.\u001B[39;00m\u001B[38;5;21;01mutils\u001B[39;00m\u001B[38;5;250m \u001B[39m\u001B[38;5;28;01mimport\u001B[39;00m arange_safe, asarray_safe\n\u001B[1;32m--> 584\u001B[0m arange \u001B[38;5;241m=\u001B[39m \u001B[43marange_safe\u001B[49m\u001B[43m(\u001B[49m\u001B[43mnp\u001B[49m\u001B[38;5;241;43m.\u001B[39;49m\u001B[43msum\u001B[49m\u001B[43m(\u001B[49m\u001B[43mchunks\u001B[49m\u001B[43m[\u001B[49m\u001B[43maxis\u001B[49m\u001B[43m]\u001B[49m\u001B[43m)\u001B[49m\u001B[43m,\u001B[49m\u001B[43m \u001B[49m\u001B[43mlike\u001B[49m\u001B[38;5;241;43m=\u001B[39;49m\u001B[43mindex\u001B[49m\u001B[43m)\u001B[49m\n\u001B[0;32m    585\u001B[0m \u001B[38;5;28;01mif\u001B[39;00m \u001B[38;5;28mlen\u001B[39m(index) \u001B[38;5;241m==\u001B[39m \u001B[38;5;28mlen\u001B[39m(arange) \u001B[38;5;129;01mand\u001B[39;00m np\u001B[38;5;241m.\u001B[39mabs(index \u001B[38;5;241m-\u001B[39m arange)\u001B[38;5;241m.\u001B[39msum() \u001B[38;5;241m==\u001B[39m \u001B[38;5;241m0\u001B[39m:\n\u001B[0;32m    586\u001B[0m     \u001B[38;5;66;03m# TODO: This should be a real no-op, but the call stack is\u001B[39;00m\n\u001B[0;32m    587\u001B[0m     \u001B[38;5;66;03m# too deep to do this efficiently for now\u001B[39;00m\n",
      "File \u001B[1;32m~\\PycharmProjects\\PSTAT Capstone\\.venv\\Lib\\site-packages\\dask\\array\\utils.py:436\u001B[0m, in \u001B[0;36marange_safe\u001B[1;34m(like, *args, **kwargs)\u001B[0m\n\u001B[0;32m    435\u001B[0m \u001B[38;5;28;01mtry\u001B[39;00m:\n\u001B[1;32m--> 436\u001B[0m     \u001B[38;5;28;01mreturn\u001B[39;00m \u001B[43mnp\u001B[49m\u001B[38;5;241;43m.\u001B[39;49m\u001B[43marange\u001B[49m\u001B[43m(\u001B[49m\u001B[38;5;241;43m*\u001B[39;49m\u001B[43margs\u001B[49m\u001B[43m,\u001B[49m\u001B[43m \u001B[49m\u001B[43mlike\u001B[49m\u001B[38;5;241;43m=\u001B[39;49m\u001B[43mmeta_from_array\u001B[49m\u001B[43m(\u001B[49m\u001B[43mlike\u001B[49m\u001B[43m)\u001B[49m\u001B[43m,\u001B[49m\u001B[43m \u001B[49m\u001B[38;5;241;43m*\u001B[39;49m\u001B[38;5;241;43m*\u001B[39;49m\u001B[43mkwargs\u001B[49m\u001B[43m)\u001B[49m\n\u001B[0;32m    437\u001B[0m \u001B[38;5;28;01mexcept\u001B[39;00m \u001B[38;5;167;01mTypeError\u001B[39;00m:\n",
      "\u001B[1;31mKeyboardInterrupt\u001B[0m: ",
      "\nDuring handling of the above exception, another exception occurred:\n",
      "\u001B[1;31mKeyboardInterrupt\u001B[0m                         Traceback (most recent call last)",
      "    \u001B[1;31m[... skipping hidden 1 frame]\u001B[0m\n",
      "File \u001B[1;32m~\\PycharmProjects\\PSTAT Capstone\\.venv\\Lib\\site-packages\\IPython\\core\\interactiveshell.py:2115\u001B[0m, in \u001B[0;36mInteractiveShell.showtraceback\u001B[1;34m(self, exc_tuple, filename, tb_offset, exception_only, running_compiled_code)\u001B[0m\n\u001B[0;32m   2112\u001B[0m     msg \u001B[38;5;241m=\u001B[39m traceback\u001B[38;5;241m.\u001B[39mformat_exception_only(etype, value)\n\u001B[0;32m   2113\u001B[0m     \u001B[38;5;28;01mreturn\u001B[39;00m \u001B[38;5;124m'\u001B[39m\u001B[38;5;124m'\u001B[39m\u001B[38;5;241m.\u001B[39mjoin(msg)\n\u001B[1;32m-> 2115\u001B[0m \u001B[38;5;28;01mdef\u001B[39;00m\u001B[38;5;250m \u001B[39m\u001B[38;5;21mshowtraceback\u001B[39m(\u001B[38;5;28mself\u001B[39m, exc_tuple\u001B[38;5;241m=\u001B[39m\u001B[38;5;28;01mNone\u001B[39;00m, filename\u001B[38;5;241m=\u001B[39m\u001B[38;5;28;01mNone\u001B[39;00m, tb_offset\u001B[38;5;241m=\u001B[39m\u001B[38;5;28;01mNone\u001B[39;00m,\n\u001B[0;32m   2116\u001B[0m                   exception_only\u001B[38;5;241m=\u001B[39m\u001B[38;5;28;01mFalse\u001B[39;00m, running_compiled_code\u001B[38;5;241m=\u001B[39m\u001B[38;5;28;01mFalse\u001B[39;00m):\n\u001B[0;32m   2117\u001B[0m \u001B[38;5;250m    \u001B[39m\u001B[38;5;124;03m\"\"\"Display the exception that just occurred.\u001B[39;00m\n\u001B[0;32m   2118\u001B[0m \n\u001B[0;32m   2119\u001B[0m \u001B[38;5;124;03m    If nothing is known about the exception, this is the method which\u001B[39;00m\n\u001B[1;32m   (...)\u001B[0m\n\u001B[0;32m   2125\u001B[0m \u001B[38;5;124;03m    SyntaxError exception, don't try to analyze the stack manually and\u001B[39;00m\n\u001B[0;32m   2126\u001B[0m \u001B[38;5;124;03m    simply call this method.\"\"\"\u001B[39;00m\n\u001B[0;32m   2128\u001B[0m     \u001B[38;5;28;01mtry\u001B[39;00m:\n",
      "\u001B[1;31mKeyboardInterrupt\u001B[0m: "
     ]
    }
   ],
   "execution_count": 43
  },
  {
   "metadata": {
    "ExecuteTime": {
     "end_time": "2025-01-25T20:35:47.753927Z",
     "start_time": "2025-01-25T02:07:03.020554Z"
    }
   },
   "cell_type": "code",
   "source": [
    "pivot_df = Can_ESM5_eastern_east_africa_corr_clean.pivot_table(index = 'month', columns = 'lead time', values = 'predicted precip')\n",
    "colormap = sns.color_palette('rocket', 10)\n",
    "ax = sns.heatmap(pivot_df, vmin=0, vmax=1, cmap = colormap)\n",
    "ax.invert_yaxis()\n",
    "plt.title(\"Precipitation by Lead Time & Month (Eastern East Africa)\")\n",
    "plt.ylabel(\"Month\")\n",
    "plt.xlabel(\"Lead Time\")\n",
    "plt.show()"
   ],
   "outputs": [
    {
     "data": {
      "text/plain": [
       "<Figure size 640x480 with 2 Axes>"
      ],
      "image/png": "[encoded data removed]"
     },
     "metadata": {},
     "output_type": "display_data"
    }
   ],
   "execution_count": 8
  },
  {
   "metadata": {
    "ExecuteTime": {
     "end_time": "2025-01-25T20:35:47.753927Z",
     "start_time": "2025-01-25T02:07:03.514527Z"
    }
   },
   "cell_type": "code",
   "source": [
    "CanESM5_eastern_ukraine = (CanESM5.sel(Y=slice(45, 51), X=slice(211, 220))\n",
    "                       .rename({'Y': 'latitude', 'X': 'longitude', 'prec': 'predicted precip', 'S': 'date of prediction', 'L': 'lead time'})\n",
    "                       .groupby(['latitude', 'longitude', 'date of prediction', 'lead time'])\n",
    "                       .mean('M'))\n",
    "CanESM5_eastern_ukraine['longitude'] = CanESM5_eastern_ukraine['longitude'] - 180\n",
    "CanESM5_eastern_ukraine_df = CanESM5_eastern_ukraine.to_dataframe().reset_index()\n",
    "CanESM5_eastern_ukraine_df['time'] = CanESM5_eastern_ukraine_df.apply(lambda x: x['date of prediction'] + pd.DateOffset(months=int(x['lead time'])), axis=1)\n",
    "\n",
    "chirps_eastern_ukraine = (chirps.sel(latitude=slice(44, 52), \n",
    "                                longitude=slice(30, 41))\n",
    "                      .interp_like(CanESM5_eastern_ukraine, method='nearest'))\n",
    "chirps_eastern_ukraine_df = chirps_eastern_ukraine.to_dataframe().reset_index()\n",
    "\n",
    "CanESM5_eastern_ukraine_df_merged = CanESM5_eastern_ukraine_df.merge(chirps_eastern_ukraine_df, on = ['latitude', 'longitude', 'time'], how = 'left')\n",
    "CanESM5_eastern_ukraine_df_merged.to_csv('eastern_ukraine_CanESM5_merged.csv')\n",
    "CanESM5_eastern_ukraine_df_clean = CanESM5_eastern_ukraine_df_merged.drop(['date of prediction', 'latitude', 'longitude'], axis = 1)\n",
    "CanESM5_eastern_ukraine_df_clean['month'] = CanESM5_eastern_ukraine_df_clean['time'].dt.month\n",
    "Can_ESM5_eastern_ukraine_corr = CanESM5_eastern_ukraine_df_clean.drop('time', axis = 1).groupby(['month', 'lead time']).corr(method='pearson').drop('precip', axis = 1).droplevel(level=2).reset_index()\n",
    "Can_ESM5_eastern_ukraine_corr_clean = Can_ESM5_eastern_ukraine_corr.drop(Can_ESM5_eastern_ukraine_corr.index[::2])\n",
    "Can_ESM5_eastern_ukraine_corr_clean['predicted precip'] = np.power(Can_ESM5_eastern_ukraine_corr_clean['predicted precip'], 2)\n",
    "Can_ESM5_eastern_ukraine_corr_clean"
   ],
   "outputs": [
    {
     "data": {
      "text/plain": [
       "     month  lead time  predicted precip\n",
       "1        1        0.5          0.246412\n",
       "3        1        1.5          0.010642\n",
       "5        1        2.5          0.083885\n",
       "7        1        3.5          0.017965\n",
       "9        1        4.5          0.015540\n",
       "..     ...        ...               ...\n",
       "279     12        7.5          0.006205\n",
       "281     12        8.5          0.019775\n",
       "283     12        9.5          0.016910\n",
       "285     12       10.5          0.010034\n",
       "287     12       11.5          0.010226\n",
       "\n",
       "[144 rows x 3 columns]"
      ],
      "text/html": [
       "<div>\n",
       "<style scoped>\n",
       "    .dataframe tbody tr th:only-of-type {\n",
       "        vertical-align: middle;\n",
       "    }\n",
       "\n",
       "    .dataframe tbody tr th {\n",
       "        vertical-align: top;\n",
       "    }\n",
       "\n",
       "    .dataframe thead th {\n",
       "        text-align: right;\n",
       "    }\n",
       "</style>\n",
       "<table border=\"1\" class=\"dataframe\">\n",
       "  <thead>\n",
       "    <tr style=\"text-align: right;\">\n",
       "      <th></th>\n",
       "      <th>month</th>\n",
       "      <th>lead time</th>\n",
       "      <th>predicted precip</th>\n",
       "    </tr>\n",
       "  </thead>\n",
       "  <tbody>\n",
       "    <tr>\n",
       "      <th>1</th>\n",
       "      <td>1</td>\n",
       "      <td>0.5</td>\n",
       "      <td>0.246412</td>\n",
       "    </tr>\n",
       "    <tr>\n",
       "      <th>3</th>\n",
       "      <td>1</td>\n",
       "      <td>1.5</td>\n",
       "      <td>0.010642</td>\n",
       "    </tr>\n",
       "    <tr>\n",
       "      <th>5</th>\n",
       "      <td>1</td>\n",
       "      <td>2.5</td>\n",
       "      <td>0.083885</td>\n",
       "    </tr>\n",
       "    <tr>\n",
       "      <th>7</th>\n",
       "      <td>1</td>\n",
       "      <td>3.5</td>\n",
       "      <td>0.017965</td>\n",
       "    </tr>\n",
       "    <tr>\n",
       "      <th>9</th>\n",
       "      <td>1</td>\n",
       "      <td>4.5</td>\n",
       "      <td>0.015540</td>\n",
       "    </tr>\n",
       "    <tr>\n",
       "      <th>...</th>\n",
       "      <td>...</td>\n",
       "      <td>...</td>\n",
       "      <td>...</td>\n",
       "    </tr>\n",
       "    <tr>\n",
       "      <th>279</th>\n",
       "      <td>12</td>\n",
       "      <td>7.5</td>\n",
       "      <td>0.006205</td>\n",
       "    </tr>\n",
       "    <tr>\n",
       "      <th>281</th>\n",
       "      <td>12</td>\n",
       "      <td>8.5</td>\n",
       "      <td>0.019775</td>\n",
       "    </tr>\n",
       "    <tr>\n",
       "      <th>283</th>\n",
       "      <td>12</td>\n",
       "      <td>9.5</td>\n",
       "      <td>0.016910</td>\n",
       "    </tr>\n",
       "    <tr>\n",
       "      <th>285</th>\n",
       "      <td>12</td>\n",
       "      <td>10.5</td>\n",
       "      <td>0.010034</td>\n",
       "    </tr>\n",
       "    <tr>\n",
       "      <th>287</th>\n",
       "      <td>12</td>\n",
       "      <td>11.5</td>\n",
       "      <td>0.010226</td>\n",
       "    </tr>\n",
       "  </tbody>\n",
       "</table>\n",
       "<p>144 rows × 3 columns</p>\n",
       "</div>"
      ]
     },
     "execution_count": 9,
     "metadata": {},
     "output_type": "execute_result"
    }
   ],
   "execution_count": 9
  },
  {
   "metadata": {
    "ExecuteTime": {
     "end_time": "2025-01-25T20:35:47.763935100Z",
     "start_time": "2025-01-25T02:44:43.427737Z"
    }
   },
   "cell_type": "code",
   "source": [
    "pivot_df = Can_ESM5_eastern_ukraine_corr_clean.pivot_table(index = 'month', columns = 'lead time', values = 'predicted precip')\n",
    "colormap = sns.color_palette('rocket', 10)\n",
    "ax = sns.heatmap(pivot_df, vmin=0, vmax=1, cmap = colormap)\n",
    "ax.invert_yaxis()\n",
    "plt.title(\"Precipitation by Lead Time & Month (Eastern Ukraine)\")\n",
    "plt.ylabel(\"Month\")\n",
    "plt.xlabel(\"Lead Time\")\n",
    "plt.show()"
   ],
   "outputs": [
    {
     "data": {
      "text/plain": [
       "<Figure size 640x480 with 2 Axes>"
      ],
      "image/png": "[encoded data removed]"
     },
     "metadata": {},
     "output_type": "display_data"
    }
   ],
   "execution_count": 10
  },
  {
   "metadata": {
    "ExecuteTime": {
     "end_time": "2025-01-25T20:35:47.765279Z",
     "start_time": "2025-01-25T02:44:43.686622Z"
    }
   },
   "cell_type": "code",
   "source": [
    "CanESM5_southern_africa = (CanESM5.sel(Y=slice(-23, -15), X=slice(205, 214))\n",
    "                       .rename({'Y': 'latitude', 'X': 'longitude', 'prec': 'predicted precip', 'S': 'date of prediction', 'L': 'lead time'})\n",
    "                       .groupby(['latitude', 'longitude', 'date of prediction', 'lead time'])\n",
    "                       .mean('M'))\n",
    "CanESM5_southern_africa['longitude'] = CanESM5_southern_africa['longitude'] - 180\n",
    "CanESM5_southern_africa_df = CanESM5_southern_africa.to_dataframe().reset_index()\n",
    "CanESM5_southern_africa_df['time'] = CanESM5_southern_africa_df.apply(lambda x: x['date of prediction'] + pd.DateOffset(months=int(x['lead time'])), axis=1)\n",
    "\n",
    "chirps_southern_africa = (chirps.sel(latitude=slice(-24, -14), \n",
    "                                longitude=slice(24, 35))\n",
    "                      .interp_like(CanESM5_southern_africa, method='nearest'))\n",
    "chirps_southern_africa_df = chirps_southern_africa.to_dataframe().reset_index()\n",
    "\n",
    "CanESM5_southern_africa_df_merged = CanESM5_southern_africa_df.merge(chirps_southern_africa_df, on = ['latitude', 'longitude', 'time'], how = 'left')\n",
    "CanESM5_southern_africa_df_merged.to_csv('southern_africa_CanESM5_merged.csv')\n",
    "CanESM5_southern_africa_df_clean = CanESM5_southern_africa_df_merged.drop(['date of prediction', 'latitude', 'longitude'], axis = 1)\n",
    "CanESM5_southern_africa_df_clean['month'] = CanESM5_southern_africa_df_clean['time'].dt.month\n",
    "Can_ESM5_southern_africa_corr = CanESM5_southern_africa_df_clean.drop('time', axis = 1).groupby(['month', 'lead time']).corr(method='pearson').drop('precip', axis = 1).droplevel(level=2).reset_index()\n",
    "Can_ESM5_southern_africa_corr_clean = Can_ESM5_southern_africa_corr.drop(Can_ESM5_southern_africa_corr.index[::2])\n",
    "Can_ESM5_southern_africa_corr_clean['predicted precip'] = np.power(Can_ESM5_southern_africa_corr_clean['predicted precip'], 2)\n",
    "Can_ESM5_southern_africa_corr_clean"
   ],
   "outputs": [
    {
     "data": {
      "text/plain": [
       "     month  lead time  predicted precip\n",
       "1        1        0.5          0.200036\n",
       "3        1        1.5          0.171327\n",
       "5        1        2.5          0.179402\n",
       "7        1        3.5          0.205616\n",
       "9        1        4.5          0.104850\n",
       "..     ...        ...               ...\n",
       "279     12        7.5          0.088734\n",
       "281     12        8.5          0.096034\n",
       "283     12        9.5          0.080048\n",
       "285     12       10.5          0.094208\n",
       "287     12       11.5          0.150581\n",
       "\n",
       "[144 rows x 3 columns]"
      ],
      "text/html": [
       "<div>\n",
       "<style scoped>\n",
       "    .dataframe tbody tr th:only-of-type {\n",
       "        vertical-align: middle;\n",
       "    }\n",
       "\n",
       "    .dataframe tbody tr th {\n",
       "        vertical-align: top;\n",
       "    }\n",
       "\n",
       "    .dataframe thead th {\n",
       "        text-align: right;\n",
       "    }\n",
       "</style>\n",
       "<table border=\"1\" class=\"dataframe\">\n",
       "  <thead>\n",
       "    <tr style=\"text-align: right;\">\n",
       "      <th></th>\n",
       "      <th>month</th>\n",
       "      <th>lead time</th>\n",
       "      <th>predicted precip</th>\n",
       "    </tr>\n",
       "  </thead>\n",
       "  <tbody>\n",
       "    <tr>\n",
       "      <th>1</th>\n",
       "      <td>1</td>\n",
       "      <td>0.5</td>\n",
       "      <td>0.200036</td>\n",
       "    </tr>\n",
       "    <tr>\n",
       "      <th>3</th>\n",
       "      <td>1</td>\n",
       "      <td>1.5</td>\n",
       "      <td>0.171327</td>\n",
       "    </tr>\n",
       "    <tr>\n",
       "      <th>5</th>\n",
       "      <td>1</td>\n",
       "      <td>2.5</td>\n",
       "      <td>0.179402</td>\n",
       "    </tr>\n",
       "    <tr>\n",
       "      <th>7</th>\n",
       "      <td>1</td>\n",
       "      <td>3.5</td>\n",
       "      <td>0.205616</td>\n",
       "    </tr>\n",
       "    <tr>\n",
       "      <th>9</th>\n",
       "      <td>1</td>\n",
       "      <td>4.5</td>\n",
       "      <td>0.104850</td>\n",
       "    </tr>\n",
       "    <tr>\n",
       "      <th>...</th>\n",
       "      <td>...</td>\n",
       "      <td>...</td>\n",
       "      <td>...</td>\n",
       "    </tr>\n",
       "    <tr>\n",
       "      <th>279</th>\n",
       "      <td>12</td>\n",
       "      <td>7.5</td>\n",
       "      <td>0.088734</td>\n",
       "    </tr>\n",
       "    <tr>\n",
       "      <th>281</th>\n",
       "      <td>12</td>\n",
       "      <td>8.5</td>\n",
       "      <td>0.096034</td>\n",
       "    </tr>\n",
       "    <tr>\n",
       "      <th>283</th>\n",
       "      <td>12</td>\n",
       "      <td>9.5</td>\n",
       "      <td>0.080048</td>\n",
       "    </tr>\n",
       "    <tr>\n",
       "      <th>285</th>\n",
       "      <td>12</td>\n",
       "      <td>10.5</td>\n",
       "      <td>0.094208</td>\n",
       "    </tr>\n",
       "    <tr>\n",
       "      <th>287</th>\n",
       "      <td>12</td>\n",
       "      <td>11.5</td>\n",
       "      <td>0.150581</td>\n",
       "    </tr>\n",
       "  </tbody>\n",
       "</table>\n",
       "<p>144 rows × 3 columns</p>\n",
       "</div>"
      ]
     },
     "execution_count": 11,
     "metadata": {},
     "output_type": "execute_result"
    }
   ],
   "execution_count": 11
  },
  {
   "metadata": {
    "ExecuteTime": {
     "end_time": "2025-01-25T20:35:47.765279Z",
     "start_time": "2025-01-25T03:41:10.477954Z"
    }
   },
   "cell_type": "code",
   "source": [
    "pivot_df = Can_ESM5_southern_africa_corr_clean.pivot_table(index = 'month', columns = 'lead time', values = 'predicted precip')\n",
    "colormap = sns.color_palette('rocket', 10)\n",
    "ax = sns.heatmap(pivot_df, vmin=0, vmax=1, cmap = colormap)\n",
    "ax.invert_yaxis()\n",
    "plt.title(\"Precipitation by Lead Time & Month (Southern Africa)\")\n",
    "plt.ylabel(\"Month\")\n",
    "plt.xlabel(\"Lead Time\")\n",
    "plt.show()"
   ],
   "outputs": [
    {
     "data": {
      "text/plain": [
       "<Figure size 640x480 with 2 Axes>"
      ],
      "image/png": "[encoded data removed]"
     },
     "metadata": {},
     "output_type": "display_data"
    }
   ],
   "execution_count": 12
  },
  {
   "metadata": {
    "ExecuteTime": {
     "end_time": "2025-01-25T20:35:47.766281Z",
     "start_time": "2025-01-25T10:25:20.956942Z"
    }
   },
   "cell_type": "code",
   "source": [
    "CanESM5_west_africa = (CanESM5.sel(Y=slice(10, 13.5), X=slice(170, 180))\n",
    "                       .rename({'Y': 'latitude', 'X': 'longitude', 'prec': 'predicted precip', 'S': 'date of prediction', 'L': 'lead time'})\n",
    "                       .groupby(['latitude', 'longitude', 'date of prediction', 'lead time'])\n",
    "                       .mean('M'))\n",
    "CanESM5_west_africa['longitude'] = CanESM5_west_africa['longitude'] - 180\n",
    "CanESM5_west_africa_df = CanESM5_west_africa.to_dataframe().reset_index()\n",
    "CanESM5_west_africa_df['time'] = CanESM5_west_africa_df.apply(lambda x: x['date of prediction'] + pd.DateOffset(months=int(x['lead time'])), axis=1)\n",
    "\n",
    "chirps_west_africa = (chirps.sel(latitude=slice(9, 13.5), \n",
    "                                longitude=slice(-11, 1))\n",
    "                      .interp_like(CanESM5_west_africa, method='nearest'))\n",
    "chirps_west_africa_df = chirps_west_africa.to_dataframe().reset_index()\n",
    "\n",
    "CanESM5_west_africa_df_merged = CanESM5_west_africa_df.merge(chirps_west_africa_df, on = ['latitude', 'longitude', 'time'], how = 'left')\n",
    "CanESM5_west_africa_df_merged.to_csv('west_africa_CanESM5_merged.csv')\n",
    "CanESM5_west_africa_df_clean = CanESM5_west_africa_df_merged.drop(['date of prediction', 'latitude', 'longitude'], axis = 1)\n",
    "CanESM5_west_africa_df_clean['month'] = CanESM5_west_africa_df_clean['time'].dt.month\n",
    "Can_ESM5_west_africa_corr = CanESM5_west_africa_df_clean.drop('time', axis = 1).groupby(['month', 'lead time']).corr(method='pearson').drop('precip', axis = 1).droplevel(level=2).reset_index()\n",
    "Can_ESM5_west_africa_corr_clean = Can_ESM5_west_africa_corr.drop(Can_ESM5_west_africa_corr.index[::2])\n",
    "Can_ESM5_west_africa_corr_clean['predicted precip'] = np.power(Can_ESM5_west_africa_corr_clean['predicted precip'], 2)\n",
    "Can_ESM5_west_africa_corr_clean"
   ],
   "outputs": [
    {
     "data": {
      "text/plain": [
       "     month  lead time  predicted precip\n",
       "1        1        0.5               NaN\n",
       "3        1        1.5               NaN\n",
       "5        1        2.5               NaN\n",
       "7        1        3.5               NaN\n",
       "9        1        4.5               NaN\n",
       "..     ...        ...               ...\n",
       "279     12        7.5               NaN\n",
       "281     12        8.5               NaN\n",
       "283     12        9.5               NaN\n",
       "285     12       10.5               NaN\n",
       "287     12       11.5               NaN\n",
       "\n",
       "[144 rows x 3 columns]"
      ],
      "text/html": [
       "<div>\n",
       "<style scoped>\n",
       "    .dataframe tbody tr th:only-of-type {\n",
       "        vertical-align: middle;\n",
       "    }\n",
       "\n",
       "    .dataframe tbody tr th {\n",
       "        vertical-align: top;\n",
       "    }\n",
       "\n",
       "    .dataframe thead th {\n",
       "        text-align: right;\n",
       "    }\n",
       "</style>\n",
       "<table border=\"1\" class=\"dataframe\">\n",
       "  <thead>\n",
       "    <tr style=\"text-align: right;\">\n",
       "      <th></th>\n",
       "      <th>month</th>\n",
       "      <th>lead time</th>\n",
       "      <th>predicted precip</th>\n",
       "    </tr>\n",
       "  </thead>\n",
       "  <tbody>\n",
       "    <tr>\n",
       "      <th>1</th>\n",
       "      <td>1</td>\n",
       "      <td>0.5</td>\n",
       "      <td>NaN</td>\n",
       "    </tr>\n",
       "    <tr>\n",
       "      <th>3</th>\n",
       "      <td>1</td>\n",
       "      <td>1.5</td>\n",
       "      <td>NaN</td>\n",
       "    </tr>\n",
       "    <tr>\n",
       "      <th>5</th>\n",
       "      <td>1</td>\n",
       "      <td>2.5</td>\n",
       "      <td>NaN</td>\n",
       "    </tr>\n",
       "    <tr>\n",
       "      <th>7</th>\n",
       "      <td>1</td>\n",
       "      <td>3.5</td>\n",
       "      <td>NaN</td>\n",
       "    </tr>\n",
       "    <tr>\n",
       "      <th>9</th>\n",
       "      <td>1</td>\n",
       "      <td>4.5</td>\n",
       "      <td>NaN</td>\n",
       "    </tr>\n",
       "    <tr>\n",
       "      <th>...</th>\n",
       "      <td>...</td>\n",
       "      <td>...</td>\n",
       "      <td>...</td>\n",
       "    </tr>\n",
       "    <tr>\n",
       "      <th>279</th>\n",
       "      <td>12</td>\n",
       "      <td>7.5</td>\n",
       "      <td>NaN</td>\n",
       "    </tr>\n",
       "    <tr>\n",
       "      <th>281</th>\n",
       "      <td>12</td>\n",
       "      <td>8.5</td>\n",
       "      <td>NaN</td>\n",
       "    </tr>\n",
       "    <tr>\n",
       "      <th>283</th>\n",
       "      <td>12</td>\n",
       "      <td>9.5</td>\n",
       "      <td>NaN</td>\n",
       "    </tr>\n",
       "    <tr>\n",
       "      <th>285</th>\n",
       "      <td>12</td>\n",
       "      <td>10.5</td>\n",
       "      <td>NaN</td>\n",
       "    </tr>\n",
       "    <tr>\n",
       "      <th>287</th>\n",
       "      <td>12</td>\n",
       "      <td>11.5</td>\n",
       "      <td>NaN</td>\n",
       "    </tr>\n",
       "  </tbody>\n",
       "</table>\n",
       "<p>144 rows × 3 columns</p>\n",
       "</div>"
      ]
     },
     "execution_count": 17,
     "metadata": {},
     "output_type": "execute_result"
    }
   ],
   "execution_count": 17
  },
  {
   "metadata": {
    "ExecuteTime": {
     "end_time": "2025-01-25T20:35:47.767282100Z",
     "start_time": "2025-01-25T03:42:26.147215Z"
    }
   },
   "cell_type": "code",
   "source": [
    "pivot_df = Can_ESM5_west_africa_corr_clean.pivot_table(index = 'month', columns = 'lead time', values = 'predicted precip')\n",
    "colormap = sns.color_palette('rocket', 10)\n",
    "ax = sns.heatmap(pivot_df, vmin=0, vmax=1, cmap = colormap)\n",
    "ax.invert_yaxis()\n",
    "plt.title(\"Precipitation by Lead Time & Month (West Africa)\")\n",
    "plt.ylabel(\"Month\")\n",
    "plt.xlabel(\"Lead Time\")\n",
    "plt.show()"
   ],
   "outputs": [
    {
     "name": "stderr",
     "output_type": "stream",
     "text": [
      "C:\\Users\\Johnson Leung\\PycharmProjects\\PSTAT Capstone\\.venv\\Lib\\site-packages\\seaborn\\matrix.py:309: UserWarning: Attempting to set identical low and high xlims makes transformation singular; automatically expanding.\n",
      "  ax.set(xlim=(0, self.data.shape[1]), ylim=(0, self.data.shape[0]))\n",
      "C:\\Users\\Johnson Leung\\PycharmProjects\\PSTAT Capstone\\.venv\\Lib\\site-packages\\seaborn\\matrix.py:309: UserWarning: Attempting to set identical low and high ylims makes transformation singular; automatically expanding.\n",
      "  ax.set(xlim=(0, self.data.shape[1]), ylim=(0, self.data.shape[0]))\n"
     ]
    },
    {
     "data": {
      "text/plain": [
       "<Figure size 640x480 with 2 Axes>"
      ],
      "image/png": "[encoded data removed]"
     },
     "metadata": {},
     "output_type": "display_data"
    }
   ],
   "execution_count": 14
  },
  {
   "metadata": {
    "ExecuteTime": {
     "end_time": "2025-01-25T20:43:39.481411Z",
     "start_time": "2025-01-25T20:39:19.797675Z"
    }
   },
   "cell_type": "code",
   "source": [
    "CanESM5_sri_lanka = (CanESM5.sel(Y=slice(5.5, 10), X=slice(259.5, 262))\n",
    "                       .rename({'Y': 'latitude', 'X': 'longitude', 'prec': 'predicted precip', 'S': 'date of prediction', 'L': 'lead time'})\n",
    "                       .groupby(['latitude', 'longitude', 'date of prediction', 'lead time'])\n",
    "                       .mean('M'))\n",
    "CanESM5_sri_lanka['longitude'] = CanESM5_sri_lanka['longitude'] - 180\n",
    "CanESM5_sri_lanka_df = CanESM5_sri_lanka.to_dataframe().reset_index()\n",
    "CanESM5_sri_lanka_df['time'] = CanESM5_sri_lanka_df.apply(lambda x: x['date of prediction'] + pd.DateOffset(months=int(x['lead time'])), axis=1)\n",
    "\n",
    "chirps_sri_lanka = (chirps.sel(latitude=slice(5.5, 11), \n",
    "                                longitude=slice(79.5, 83))\n",
    "                      .interp_like(CanESM5_sri_lanka, method='nearest'))\n",
    "chirps_sri_lanka_df = chirps_sri_lanka.to_dataframe().reset_index()\n",
    "\n",
    "CanESM5_sri_lanka_df_merged = CanESM5_sri_lanka_df.merge(chirps_sri_lanka_df, on = ['latitude', 'longitude', 'time'], how = 'left')\n",
    "CanESM5_sri_lanka_df_merged.to_csv('sri_lanka_CanESM5_merged.csv')\n",
    "CanESM5_sri_lanka_df_clean = CanESM5_sri_lanka_df_merged.drop(['date of prediction', 'latitude', 'longitude'], axis = 1)\n",
    "CanESM5_sri_lanka_df_clean['month'] = CanESM5_sri_lanka_df_clean['time'].dt.month\n",
    "Can_ESM5_sri_lanka_corr = CanESM5_sri_lanka_df_clean.drop('time', axis = 1).groupby(['month', 'lead time']).corr(method='pearson').drop('precip', axis = 1).droplevel(level=2).reset_index()\n",
    "Can_ESM5_sri_lanka_corr_clean = Can_ESM5_sri_lanka_corr.drop(Can_ESM5_sri_lanka_corr.index[::2])\n",
    "Can_ESM5_sri_lanka_corr_clean['predicted precip'] = np.power(Can_ESM5_sri_lanka_corr_clean['predicted precip'], 2)\n",
    "Can_ESM5_sri_lanka_corr_clean"
   ],
   "outputs": [
    {
     "data": {
      "text/plain": [
       "     month  lead time  predicted precip\n",
       "1        1        0.5          0.027407\n",
       "3        1        1.5          0.030606\n",
       "5        1        2.5          0.004134\n",
       "7        1        3.5          0.003415\n",
       "9        1        4.5          0.017381\n",
       "..     ...        ...               ...\n",
       "279     12        7.5          0.012479\n",
       "281     12        8.5          0.001583\n",
       "283     12        9.5          0.029369\n",
       "285     12       10.5          0.007350\n",
       "287     12       11.5          0.013874\n",
       "\n",
       "[144 rows x 3 columns]"
      ],
      "text/html": [
       "<div>\n",
       "<style scoped>\n",
       "    .dataframe tbody tr th:only-of-type {\n",
       "        vertical-align: middle;\n",
       "    }\n",
       "\n",
       "    .dataframe tbody tr th {\n",
       "        vertical-align: top;\n",
       "    }\n",
       "\n",
       "    .dataframe thead th {\n",
       "        text-align: right;\n",
       "    }\n",
       "</style>\n",
       "<table border=\"1\" class=\"dataframe\">\n",
       "  <thead>\n",
       "    <tr style=\"text-align: right;\">\n",
       "      <th></th>\n",
       "      <th>month</th>\n",
       "      <th>lead time</th>\n",
       "      <th>predicted precip</th>\n",
       "    </tr>\n",
       "  </thead>\n",
       "  <tbody>\n",
       "    <tr>\n",
       "      <th>1</th>\n",
       "      <td>1</td>\n",
       "      <td>0.5</td>\n",
       "      <td>0.027407</td>\n",
       "    </tr>\n",
       "    <tr>\n",
       "      <th>3</th>\n",
       "      <td>1</td>\n",
       "      <td>1.5</td>\n",
       "      <td>0.030606</td>\n",
       "    </tr>\n",
       "    <tr>\n",
       "      <th>5</th>\n",
       "      <td>1</td>\n",
       "      <td>2.5</td>\n",
       "      <td>0.004134</td>\n",
       "    </tr>\n",
       "    <tr>\n",
       "      <th>7</th>\n",
       "      <td>1</td>\n",
       "      <td>3.5</td>\n",
       "      <td>0.003415</td>\n",
       "    </tr>\n",
       "    <tr>\n",
       "      <th>9</th>\n",
       "      <td>1</td>\n",
       "      <td>4.5</td>\n",
       "      <td>0.017381</td>\n",
       "    </tr>\n",
       "    <tr>\n",
       "      <th>...</th>\n",
       "      <td>...</td>\n",
       "      <td>...</td>\n",
       "      <td>...</td>\n",
       "    </tr>\n",
       "    <tr>\n",
       "      <th>279</th>\n",
       "      <td>12</td>\n",
       "      <td>7.5</td>\n",
       "      <td>0.012479</td>\n",
       "    </tr>\n",
       "    <tr>\n",
       "      <th>281</th>\n",
       "      <td>12</td>\n",
       "      <td>8.5</td>\n",
       "      <td>0.001583</td>\n",
       "    </tr>\n",
       "    <tr>\n",
       "      <th>283</th>\n",
       "      <td>12</td>\n",
       "      <td>9.5</td>\n",
       "      <td>0.029369</td>\n",
       "    </tr>\n",
       "    <tr>\n",
       "      <th>285</th>\n",
       "      <td>12</td>\n",
       "      <td>10.5</td>\n",
       "      <td>0.007350</td>\n",
       "    </tr>\n",
       "    <tr>\n",
       "      <th>287</th>\n",
       "      <td>12</td>\n",
       "      <td>11.5</td>\n",
       "      <td>0.013874</td>\n",
       "    </tr>\n",
       "  </tbody>\n",
       "</table>\n",
       "<p>144 rows × 3 columns</p>\n",
       "</div>"
      ]
     },
     "execution_count": 47,
     "metadata": {},
     "output_type": "execute_result"
    }
   ],
   "execution_count": 47
  },
  {
   "metadata": {
    "ExecuteTime": {
     "end_time": "2025-01-25T20:47:22.288097Z",
     "start_time": "2025-01-25T20:47:22.132452Z"
    }
   },
   "cell_type": "code",
   "source": [
    "test = chirps_sri_lanka.sel(time = '2020-01')\n",
    "test['precip'].plot()"
   ],
   "outputs": [
    {
     "data": {
      "text/plain": [
       "<matplotlib.collections.QuadMesh at 0x13ecc365950>"
      ]
     },
     "execution_count": 53,
     "metadata": {},
     "output_type": "execute_result"
    },
    {
     "data": {
      "text/plain": [
       "<Figure size 640x480 with 2 Axes>"
      ],
      "image/png": "[encoded data removed]"
     },
     "metadata": {},
     "output_type": "display_data"
    }
   ],
   "execution_count": 53
  },
  {
   "metadata": {
    "ExecuteTime": {
     "end_time": "2025-01-25T20:48:10.093300Z",
     "start_time": "2025-01-25T20:48:09.968994Z"
    }
   },
   "cell_type": "code",
   "source": [
    "pivot_df = Can_ESM5_sri_lanka_corr_clean.pivot_table(index = 'month', columns = 'lead time', values = 'predicted precip')\n",
    "colormap = sns.color_palette('rocket', 10)\n",
    "ax = sns.heatmap(pivot_df, vmin=0, vmax=1, cmap = colormap)\n",
    "ax.invert_yaxis()\n",
    "plt.title(\"Precipitation by Lead Time & Month (Sri Lanka)\")\n",
    "plt.ylabel(\"Month\")\n",
    "plt.xlabel(\"Lead Time\")\n",
    "plt.show()"
   ],
   "outputs": [
    {
     "data": {
      "text/plain": [
       "<Figure size 640x480 with 2 Axes>"
      ],
      "image/png": "[encoded data removed]"
     },
     "metadata": {},
     "output_type": "display_data"
    }
   ],
   "execution_count": 54
  }
 ]
}
