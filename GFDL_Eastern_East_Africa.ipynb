{
 "cells": [
  {
   "cell_type": "code",
   "execution_count": 1,
   "metadata": {},
   "outputs": [],
   "source": [
    "import numpy as np\n",
    "import pandas as pd\n",
    "import xarray as xr\n",
    "import matplotlib.pyplot as plt\n",
    "import seaborn as sns"
   ]
  },
  {
   "cell_type": "code",
   "execution_count": 2,
   "metadata": {},
   "outputs": [
    {
     "ename": "OSError",
     "evalue": "no files to open",
     "output_type": "error",
     "traceback": [
      "\u001b[1;31m---------------------------------------------------------------------------\u001b[0m",
      "\u001b[1;31mOSError\u001b[0m                                   Traceback (most recent call last)",
      "Cell \u001b[1;32mIn[2], line 1\u001b[0m\n\u001b[1;32m----> 1\u001b[0m GFDL \u001b[38;5;241m=\u001b[39m \u001b[43mxr\u001b[49m\u001b[38;5;241;43m.\u001b[39;49m\u001b[43mopen_mfdataset\u001b[49m\u001b[43m(\u001b[49m\u001b[38;5;124;43m'\u001b[39;49m\u001b[38;5;124;43mdata/NMME/GFDL-SPEAR/*.nc\u001b[39;49m\u001b[38;5;124;43m'\u001b[39;49m\u001b[43m)\u001b[49m\n\u001b[0;32m      2\u001b[0m GFDL \u001b[38;5;241m=\u001b[39m GFDL\u001b[38;5;241m.\u001b[39massign_coords(X\u001b[38;5;241m=\u001b[39m(((GFDL\u001b[38;5;241m.\u001b[39mX \u001b[38;5;241m+\u001b[39m \u001b[38;5;241m180\u001b[39m) \u001b[38;5;241m%\u001b[39m \u001b[38;5;241m360\u001b[39m) \u001b[38;5;241m-\u001b[39m \u001b[38;5;241m180\u001b[39m))\u001b[38;5;241m.\u001b[39msortby([\u001b[38;5;124m'\u001b[39m\u001b[38;5;124mX\u001b[39m\u001b[38;5;124m'\u001b[39m])\n",
      "File \u001b[1;32m~\\AppData\\Local\\Packages\\PythonSoftwareFoundation.Python.3.12_qbz5n2kfra8p0\\LocalCache\\local-packages\\Python312\\site-packages\\xarray\\backends\\api.py:1573\u001b[0m, in \u001b[0;36mopen_mfdataset\u001b[1;34m(paths, chunks, concat_dim, compat, preprocess, engine, data_vars, coords, combine, parallel, join, attrs_file, combine_attrs, **kwargs)\u001b[0m\n\u001b[0;32m   1570\u001b[0m paths \u001b[38;5;241m=\u001b[39m _find_absolute_paths(paths, engine\u001b[38;5;241m=\u001b[39mengine, \u001b[38;5;241m*\u001b[39m\u001b[38;5;241m*\u001b[39mkwargs)\n\u001b[0;32m   1572\u001b[0m \u001b[38;5;28;01mif\u001b[39;00m \u001b[38;5;129;01mnot\u001b[39;00m paths:\n\u001b[1;32m-> 1573\u001b[0m     \u001b[38;5;28;01mraise\u001b[39;00m \u001b[38;5;167;01mOSError\u001b[39;00m(\u001b[38;5;124m\"\u001b[39m\u001b[38;5;124mno files to open\u001b[39m\u001b[38;5;124m\"\u001b[39m)\n\u001b[0;32m   1575\u001b[0m paths1d: \u001b[38;5;28mlist\u001b[39m[\u001b[38;5;28mstr\u001b[39m \u001b[38;5;241m|\u001b[39m ReadBuffer]\n\u001b[0;32m   1576\u001b[0m \u001b[38;5;28;01mif\u001b[39;00m combine \u001b[38;5;241m==\u001b[39m \u001b[38;5;124m\"\u001b[39m\u001b[38;5;124mnested\u001b[39m\u001b[38;5;124m\"\u001b[39m:\n",
      "\u001b[1;31mOSError\u001b[0m: no files to open"
     ]
    }
   ],
   "source": [
    "GFDL = xr.open_mfdataset('data/NMME/GFDL-SPEAR/*.nc')\n",
    "GFDL = GFDL.assign_coords(X=(((GFDL.X + 180) % 360) - 180)).sortby(['X'])"
   ]
  },
  {
   "cell_type": "code",
   "execution_count": null,
   "metadata": {},
   "outputs": [],
   "source": [
    "GFDL_eastern_east_africa = (GFDL.sel(Y=slice(-3.5, 8), X=slice(38, 50))\n",
    "                               .rename(\n",
    "    {'Y': 'latitude', 'X': 'longitude', 'prec': 'predicted precip', 'S': 'date of prediction', 'L': 'lead time'}))\n",
    "\n",
    "# Interpolate and subset CHIRPS to match spatial resolution of GFDL\n",
    "chirps_eastern_east_africa = (chirps.sel(latitude=slice(-3.5, 9), longitude=slice(37,\n",
    "                                                                                  51))  # One degree of resolution must be added for interpolation\n",
    "                              .interp_like(GFDL_eastern_east_africa, method='nearest'))\n",
    "\n",
    "# Calculate realized dates for GFDL, convert to dataframe\n",
    "GFDL_eastern_east_africa_df = GFDL_eastern_east_africa.to_dataframe().reset_index()\n",
    "GFDL_eastern_east_africa_df['realization_time'] = GFDL_eastern_east_africa_df.apply(\n",
    "    lambda x: x['date of prediction'] + pd.DateOffset(months=int(x['lead time'])), axis=1)\n",
    "\n",
    "# Convert CHIRPS to dataframe\n",
    "chirps_eastern_east_africa_df = chirps_eastern_east_africa.to_dataframe().reset_index()\n",
    "\n",
    "# Merge CHIRPS and GFDL dataframe\n",
    "eastern_east_africa_merged_df = GFDL_eastern_east_africa_df.merge(chirps_eastern_east_africa_df, how='left',\n",
    "                                                                     left_on=['realization_time', 'latitude',\n",
    "                                                                              'longitude'],\n",
    "                                                                     right_on=['time', 'latitude',\n",
    "                                                                               'longitude']).dropna()\n",
    "\n",
    "# Save to .csv\n",
    "eastern_east_africa_merged_df.to_csv('data/csv/eastern_east_africa_GFDL_merged.csv')\n",
    "\n",
    "# Drop date of prediction, latitude, longitude\n",
    "eastern_east_africa_merged_df = eastern_east_africa_merged_df.drop(\n",
    "    columns=['date of prediction', 'latitude', 'longitude'])\n",
    "# make a new column month that extracts month from realization time\n",
    "eastern_east_africa_merged_df['month'] = eastern_east_africa_merged_df['realization_time'].dt.month\n",
    "\n",
    "# Make calculations on the merged dataframe for plotting\n",
    "corr_clean = eastern_east_africa_merged_df.drop(['realization_time', 'time'], axis=1).groupby(\n",
    "    ['month', 'lead time', 'M']).corr(method='pearson').drop('precip', axis=1).droplevel(level=3).reset_index()\n",
    "corr_clean_1 = corr_clean.drop(corr_clean.index[::2])\n",
    "\n",
    "stat_eastern_east_africa = (eastern_east_africa_merged_df.drop(['realization_time', 'time'], axis=1)\n",
    "                            .groupby(['month', 'lead time', 'M']).agg(['mean', 'std']).reset_index())\n",
    "stat_eastern_east_africa.columns = stat_eastern_east_africa.columns.droplevel()\n",
    "stat_eastern_east_africa.columns = ['month', 'lead time', 'M', 'pred mean', 'pred std', 'actual mean', 'actual std']\n",
    "stat_eastern_east_africa_clean = stat_eastern_east_africa.merge(corr_clean_1.reset_index(),\n",
    "                                                                on=['month', 'lead time', 'M'], how='left').drop(\n",
    "    \"index\", axis=1)\n",
    "stat_eastern_east_africa_clean.columns = ['month', 'lead time', 'M', 'pred mean', 'pred std', 'actual mean',\n",
    "                                          'actual std', 'corr']\n",
    "stat_eastern_east_africa_clean['conditional bias'] = stat_eastern_east_africa_clean.apply(\n",
    "    lambda x: np.power(x['corr'] - x['pred std'] / x['actual std'], 2), axis=1)\n",
    "stat_eastern_east_africa_clean['unconditional bias'] = stat_eastern_east_africa_clean.apply(\n",
    "    lambda x: np.power((x['pred mean'] - x['actual mean']) / x['actual std'], 2), axis=1)\n",
    "stat_eastern_east_africa_clean['potential skill'] = stat_eastern_east_africa_clean.apply(\n",
    "    lambda x: np.power(x['corr'], 2), axis=1)\n",
    "stat_eastern_east_africa_clean = stat_eastern_east_africa_clean.drop(\n",
    "    ['corr', 'pred mean', 'pred std', 'actual mean', 'actual std'], axis=1)\n",
    "stat_eastern_east_africa_clean['skill score'] = stat_eastern_east_africa_clean.apply(\n",
    "    lambda x: x['potential skill'] - x['conditional bias'] - x['unconditional bias'], axis=1)\n",
    "stat_eastern_east_africa_clean = stat_eastern_east_africa_clean.groupby(['month', 'lead time']).mean().drop('M',\n",
    "                                                                                                            axis=1).reset_index()\n",
    "stat_eastern_east_africa_clean['region'] = 'Eastern East Africa'"
   ]
  }
 ],
 "metadata": {
  "kernelspec": {
   "display_name": "Python 3",
   "language": "python",
   "name": "python3"
  },
  "language_info": {
   "codemirror_mode": {
    "name": "ipython",
    "version": 3
   },
   "file_extension": ".py",
   "mimetype": "text/x-python",
   "name": "python",
   "nbconvert_exporter": "python",
   "pygments_lexer": "ipython3",
   "version": "3.12.8"
  }
 },
 "nbformat": 4,
 "nbformat_minor": 2
}
